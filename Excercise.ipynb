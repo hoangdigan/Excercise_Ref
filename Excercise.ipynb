{
 "cells": [
  {
   "cell_type": "code",
   "execution_count": 54,
   "metadata": {},
   "outputs": [
    {
     "name": "stdout",
     "output_type": "stream",
     "text": [
      "4\n",
      "5\n",
      "7\n",
      "3\n"
     ]
    }
   ],
   "source": [
    "elements = (\n",
    "    (1, 4),\n",
    "    (4, 5),\n",
    "    (6, 7),\n",
    "    (1, 3)\n",
    "            )\n",
    "for item in elements:\n",
    "    print(item[1])"
   ]
  },
  {
   "cell_type": "code",
   "execution_count": 55,
   "metadata": {},
   "outputs": [
    {
     "data": {
      "text/plain": [
       "{'id': '98698761', 'name': 'marry', 'surname': 'smith', 'rented_books': 3}"
      ]
     },
     "execution_count": 55,
     "metadata": {},
     "output_type": "execute_result"
    }
   ],
   "source": [
    "customer = (\n",
    "    ('id','98698761'), \n",
    "    ('name', 'marry'), \n",
    "    ('surname', 'smith'), \n",
    "    ('rented_books', 3 )\n",
    "    )\n",
    "dict ={}\n",
    "for item in customer:   \n",
    "    dict[item[0]] = item[1]\n",
    "dict\n"
   ]
  },
  {
   "cell_type": "code",
   "execution_count": 56,
   "metadata": {},
   "outputs": [
    {
     "name": "stdout",
     "output_type": "stream",
     "text": [
      "('id', '98698761')\n",
      "('name', 'marry')\n",
      "('surname', 'smith')\n",
      "('rented_books', 3)\n"
     ]
    }
   ],
   "source": [
    "customer = (\n",
    "    ('id','98698761'), \n",
    "    ('name', 'marry'), \n",
    "    ('surname', 'smith'), \n",
    "    ('rented_books', 3 )\n",
    "    )\n",
    "\n",
    "for item in customer:  \n",
    "    print(item) \n",
    "    # dict[item[0]]=item[1]\n",
    "# dict"
   ]
  },
  {
   "cell_type": "code",
   "execution_count": 57,
   "metadata": {},
   "outputs": [
    {
     "name": "stdout",
     "output_type": "stream",
     "text": [
      "baaded\n",
      "bbaa\n",
      "aadeba\n",
      "aba\n",
      "abc\n",
      "abb\n"
     ]
    }
   ],
   "source": [
    "passwords = ['ccavfb', 'baaded', 'bbaa', 'aaeed', 'vbb', 'aadeba', 'aba', 'dee', 'dade', 'abc', 'aae', 'dded', 'abb', 'aaf', 'ffaec']\n",
    "for item in passwords:\n",
    "    if ('ba' in item) | ('ab' in item):\n",
    "        print(item)"
   ]
  },
  {
   "cell_type": "code",
   "execution_count": 58,
   "metadata": {},
   "outputs": [
    {
     "data": {
      "text/plain": [
       "['Hong', 'Phuong']"
      ]
     },
     "execution_count": 58,
     "metadata": {},
     "output_type": "execute_result"
    }
   ],
   "source": [
    "def check_obj(vlist, vobj):\n",
    "    if vobj not in vlist:\n",
    "        vlist.append(vobj)\n",
    "    return vlist\n",
    "mlist = [\"Hong\", \"Phuong\"]\n",
    "obj=\"Phuong\"\n",
    "newlist = check_obj(mlist, obj)\n",
    "newlist"
   ]
  },
  {
   "cell_type": "code",
   "execution_count": 59,
   "metadata": {},
   "outputs": [
    {
     "name": "stdout",
     "output_type": "stream",
     "text": [
      "<class 'int'>\n"
     ]
    }
   ],
   "source": [
    "value=10\n",
    "print(type(value))\n"
   ]
  },
  {
   "cell_type": "code",
   "execution_count": 60,
   "metadata": {},
   "outputs": [
    {
     "name": "stdout",
     "output_type": "stream",
     "text": [
      "1\n",
      "4\n",
      "6\n",
      "1\n"
     ]
    }
   ],
   "source": [
    "elements = [\n",
    "    [1, 4, 6, 7],\n",
    "    [4, 5, 6],\n",
    "    [6, 7, 8],\n",
    "    [],\n",
    "    [\"nodata\", \"nodata\"],\n",
    "    [1, 3]\n",
    "            ]\n",
    "for item in elements:\n",
    "    if (len(item)>=1) and isinstance(item[0], int):\n",
    "        print(item[0])\n",
    "       "
   ]
  },
  {
   "cell_type": "code",
   "execution_count": 61,
   "metadata": {},
   "outputs": [
    {
     "data": {
      "text/plain": [
       "[1, 2, 3]"
      ]
     },
     "execution_count": 61,
     "metadata": {},
     "output_type": "execute_result"
    }
   ],
   "source": [
    "data = [1, 2, 3, None]\n",
    "fillme = []\n",
    "if data:\n",
    "    for item in data:\n",
    "        if item:\n",
    "            fillme.append(item)\n",
    "fillme"
   ]
  },
  {
   "cell_type": "code",
   "execution_count": 62,
   "metadata": {},
   "outputs": [
    {
     "name": "stdout",
     "output_type": "stream",
     "text": [
      "(1, 4)\n"
     ]
    }
   ],
   "source": [
    "def firstItem(l):\n",
    "    if len(l)>=1:\n",
    "        return (l[0], l[-1])\n",
    "l=[1,23,4]\n",
    "a= firstItem(l)\n",
    "print(a)"
   ]
  },
  {
   "cell_type": "code",
   "execution_count": 63,
   "metadata": {},
   "outputs": [
    {
     "data": {
      "text/plain": [
       "23"
      ]
     },
     "execution_count": 63,
     "metadata": {},
     "output_type": "execute_result"
    }
   ],
   "source": [
    "def foo(mylist):\n",
    "    return max(mylist)\n",
    "a=foo(l)\n",
    "a"
   ]
  },
  {
   "cell_type": "code",
   "execution_count": 64,
   "metadata": {},
   "outputs": [
    {
     "data": {
      "text/plain": [
       "[1, 2, 5, 6, 7, 10, 11]"
      ]
     },
     "execution_count": 64,
     "metadata": {},
     "output_type": "execute_result"
    }
   ],
   "source": [
    "l1=[1,2]\n",
    "l2=[5,6,7]\n",
    "l3=[10,11]\n",
    "def foo(lst1, lst2, lst3):\n",
    "    return(lst1+lst2+lst3)\n",
    "a= foo(l1,l2,l3)\n",
    "a"
   ]
  },
  {
   "cell_type": "code",
   "execution_count": 65,
   "metadata": {},
   "outputs": [
    {
     "name": "stdout",
     "output_type": "stream",
     "text": [
      "('john', 4, 'marry', 5, 'john', 4, 'marry', 5)\n"
     ]
    }
   ],
   "source": [
    "def foo(*args):\n",
    "    return args * 2\n",
    " \n",
    "print(foo(\"john\", 4, \"marry\", 5))"
   ]
  },
  {
   "cell_type": "code",
   "execution_count": 66,
   "metadata": {},
   "outputs": [
    {
     "name": "stdout",
     "output_type": "stream",
     "text": [
      "[2, 6, 10]\n"
     ]
    }
   ],
   "source": [
    "def foo(*args):\n",
    "    double_list = [x*2 for x in args]\n",
    "    return double_list\n",
    "    \n",
    "print(foo(1,3,5))"
   ]
  },
  {
   "cell_type": "code",
   "execution_count": 69,
   "metadata": {},
   "outputs": [
    {
     "name": "stdout",
     "output_type": "stream",
     "text": [
      "[1, 'a', 5, 'c']\n"
     ]
    }
   ],
   "source": [
    "\n",
    "def foo(*args):\n",
    "    u=[]\n",
    "    for i in args:\n",
    "        u.append(i)\n",
    "    return u\n",
    "print(foo(1,\"a\",5,\"c\"))\n",
    "\n",
    "\n"
   ]
  },
  {
   "cell_type": "code",
   "execution_count": 70,
   "metadata": {},
   "outputs": [
    {
     "name": "stdout",
     "output_type": "stream",
     "text": [
      "first == Geeks\n",
      "mid == for\n",
      "last == Geeks\n"
     ]
    }
   ],
   "source": [
    "# Python program to illustrate\n",
    "# *kwargs for variable number of keyword arguments\n",
    "\n",
    "def myFun(**kwargs):\n",
    "\tfor key, value in kwargs.items():\n",
    "\t\tprint (\"%s == %s\" %(key, value))\n",
    "\n",
    "# Driver code\n",
    "myFun(first ='Geeks', mid ='for', last='Geeks')\t\n"
   ]
  },
  {
   "cell_type": "code",
   "execution_count": 77,
   "metadata": {},
   "outputs": [
    {
     "name": "stdout",
     "output_type": "stream",
     "text": [
      "{'a': 1, 'c': 5, 'd': 109}\n"
     ]
    }
   ],
   "source": [
    "def foo(**kwargs):\n",
    "    return kwargs\n",
    "print(foo(a=1, c=5, d=109))"
   ]
  },
  {
   "cell_type": "code",
   "execution_count": 80,
   "metadata": {},
   "outputs": [
    {
     "name": "stdout",
     "output_type": "stream",
     "text": [
      "[1, 2, 3, 5, 7, 8, 1]\n"
     ]
    }
   ],
   "source": [
    "\n",
    "def foo(*args):\n",
    "    l=[]\n",
    "    for i in args:\n",
    "        for j in i:\n",
    "            l.append(j)\n",
    "    return l\n",
    "print(foo([1,2], [3,5,7,8], [1]))"
   ]
  },
  {
   "cell_type": "code",
   "execution_count": 81,
   "metadata": {},
   "outputs": [
    {
     "name": "stdout",
     "output_type": "stream",
     "text": [
      "[1, 2, 3, 5, 7, 8, 1]\n"
     ]
    }
   ],
   "source": [
    "def foo(*args):\n",
    "    lst = []\n",
    "    for eachlist in args:\n",
    "        lst = lst + eachlist\n",
    "    return lst\n",
    "print(foo([1,2], [3,5,7,8], [1]))"
   ]
  },
  {
   "cell_type": "code",
   "execution_count": 83,
   "metadata": {},
   "outputs": [
    {
     "name": "stdout",
     "output_type": "stream",
     "text": [
      "False\n"
     ]
    }
   ],
   "source": [
    "def foo(*args):\n",
    "    lst = []\n",
    "    if lst in args:\n",
    "        return False\n",
    "    else:\n",
    "        return True\n",
    "print(foo([1,2], [3,5,7,8], []))"
   ]
  },
  {
   "cell_type": "code",
   "execution_count": 84,
   "metadata": {},
   "outputs": [
    {
     "name": "stdout",
     "output_type": "stream",
     "text": [
      "False\n"
     ]
    }
   ],
   "source": [
    "def foo(*args):\n",
    "    return all(args)\n",
    "print(foo([1,2], [3,5,7,8], []))"
   ]
  },
  {
   "cell_type": "code",
   "execution_count": 87,
   "metadata": {},
   "outputs": [
    {
     "data": {
      "text/plain": [
       "'Hello'"
      ]
     },
     "execution_count": 87,
     "metadata": {},
     "output_type": "execute_result"
    }
   ],
   "source": [
    "def foo():\n",
    "    return \"Hello\"\n",
    "    \n",
    "def A():\n",
    "    # print(\"Inside the method A.\")\n",
    "     \n",
    "    # return second method\n",
    "    return foo\n",
    "returned_function = A()\n",
    "returned_function()"
   ]
  },
  {
   "cell_type": "code",
   "execution_count": 4,
   "metadata": {},
   "outputs": [
    {
     "data": {
      "text/plain": [
       "str"
      ]
     },
     "execution_count": 4,
     "metadata": {},
     "output_type": "execute_result"
    }
   ],
   "source": [
    "# Function gets a list, converts it to tuple and returns the tuple\n",
    "def list_to_tuple(lst):\n",
    "    return tuple(lst)\n",
    "\n",
    "# Function gets any Python object and converts it into a string\n",
    "def object_to_string(object):\n",
    "    return str(object)\n",
    "# l = [1,2,3]\n",
    "# list_to_tuple(l)\n",
    "obj=3\n",
    "a= object_to_string(obj)\n",
    "type(a)\n",
    "\n"
   ]
  },
  {
   "cell_type": "code",
   "execution_count": 8,
   "metadata": {},
   "outputs": [
    {
     "name": "stdout",
     "output_type": "stream",
     "text": [
      "0.0\n",
      "0.1\n",
      "0.2\n",
      "0.3\n",
      "0.4\n",
      "0.5\n",
      "0.6\n",
      "0.7\n",
      "0.8\n",
      "0.9\n",
      "1.0\n",
      "1.1\n",
      "1.2\n",
      "1.3\n",
      "1.4\n",
      "1.5\n",
      "1.6\n",
      "1.7\n",
      "1.8\n",
      "1.9\n",
      "2.0\n",
      "2.1\n",
      "2.2\n",
      "2.3\n",
      "2.4\n",
      "2.5\n",
      "2.6\n",
      "2.7\n",
      "2.8\n",
      "2.9\n",
      "3.0\n",
      "3.1\n",
      "3.2\n",
      "3.3\n",
      "3.4\n",
      "3.5\n",
      "3.6\n",
      "3.7\n",
      "3.8\n",
      "3.9\n",
      "4.0\n",
      "4.1\n",
      "4.2\n",
      "4.3\n",
      "4.4\n",
      "4.5\n",
      "4.6\n",
      "4.7\n",
      "4.8\n",
      "4.9\n",
      "5.0\n",
      "5.1\n",
      "5.2\n",
      "5.3\n",
      "5.4\n",
      "5.5\n",
      "5.6\n",
      "5.7\n",
      "5.8\n",
      "5.9\n",
      "6.0\n",
      "6.1\n",
      "6.2\n",
      "6.3\n",
      "6.4\n",
      "6.5\n",
      "6.6\n",
      "6.7\n",
      "6.8\n",
      "6.9\n",
      "7.0\n",
      "7.1\n",
      "7.2\n",
      "7.3\n",
      "7.4\n",
      "7.5\n",
      "7.6\n",
      "7.7\n",
      "7.8\n",
      "7.9\n",
      "8.0\n",
      "8.1\n",
      "8.2\n",
      "8.3\n",
      "8.4\n",
      "8.5\n",
      "8.6\n",
      "8.7\n",
      "8.8\n",
      "8.9\n",
      "9.0\n",
      "9.1\n",
      "9.2\n",
      "9.3\n",
      "9.4\n",
      "9.5\n",
      "9.6\n",
      "9.7\n",
      "9.8\n",
      "9.9\n",
      "10.0\n"
     ]
    }
   ],
   "source": [
    "for i in range(0,101):\n",
    "    print(float(i)/10)"
   ]
  },
  {
   "cell_type": "code",
   "execution_count": 9,
   "metadata": {},
   "outputs": [
    {
     "name": "stdout",
     "output_type": "stream",
     "text": [
      "0.0\n",
      "0.1\n",
      "0.2\n",
      "0.3\n",
      "0.4\n",
      "0.5\n",
      "0.6\n",
      "0.7\n",
      "0.8\n",
      "0.9\n",
      "1.0\n",
      "1.1\n",
      "1.2\n",
      "1.3\n",
      "1.4\n",
      "1.5\n",
      "1.6\n",
      "1.7\n",
      "1.8\n",
      "1.9\n",
      "2.0\n",
      "2.1\n",
      "2.2\n",
      "2.3\n",
      "2.4\n",
      "2.5\n",
      "2.6\n",
      "2.7\n",
      "2.8\n",
      "2.9\n",
      "3.0\n",
      "3.1\n",
      "3.2\n",
      "3.3\n",
      "3.4\n",
      "3.5\n",
      "3.6\n",
      "3.7\n",
      "3.8\n",
      "3.9\n",
      "4.0\n",
      "4.1\n",
      "4.2\n",
      "4.3\n",
      "4.4\n",
      "4.5\n",
      "4.6\n",
      "4.7\n",
      "4.8\n",
      "4.9\n",
      "5.0\n",
      "5.1\n",
      "5.2\n",
      "5.3\n",
      "5.4\n",
      "5.5\n",
      "5.6\n",
      "5.7\n",
      "5.8\n",
      "5.9\n",
      "6.0\n",
      "6.1\n",
      "6.2\n",
      "6.3\n",
      "6.4\n",
      "6.5\n",
      "6.6\n",
      "6.7\n",
      "6.8\n",
      "6.9\n",
      "7.0\n",
      "7.1\n",
      "7.2\n",
      "7.3\n",
      "7.4\n",
      "7.5\n",
      "7.6\n",
      "7.7\n",
      "7.8\n",
      "7.9\n",
      "8.0\n",
      "8.1\n",
      "8.2\n",
      "8.3\n",
      "8.4\n",
      "8.5\n",
      "8.6\n",
      "8.7\n",
      "8.8\n",
      "8.9\n",
      "9.0\n",
      "9.1\n",
      "9.2\n",
      "9.3\n",
      "9.4\n",
      "9.5\n",
      "9.6\n",
      "9.7\n",
      "9.8\n",
      "9.9\n",
      "10.0\n"
     ]
    }
   ],
   "source": [
    "for i in (x / 10 for x in range(0, 101)):\n",
    "    print(i)"
   ]
  },
  {
   "cell_type": "code",
   "execution_count": 33,
   "metadata": {},
   "outputs": [
    {
     "data": {
      "text/plain": [
       "{'sign': 'zero', 'parity': 'even'}"
      ]
     },
     "execution_count": 33,
     "metadata": {},
     "output_type": "execute_result"
    }
   ],
   "source": [
    "def checkInt(x):\n",
    "    dict={}\n",
    "    if x<0:\n",
    "        s = \"negative\"\n",
    "    elif x>0:\n",
    "        s = \"positive\"\n",
    "    else:\n",
    "        s = \"zero\"\n",
    "\n",
    "    if isinstance(x,int):\n",
    "        \n",
    "        if (x % 2) == 0:  \n",
    "            odd_even = \"even\"\n",
    "        else:  \n",
    "            odd_even = \"odd\"\n",
    "        \n",
    "    else: \n",
    "        odd_even = \"non Integer\"\n",
    "    \n",
    "    \n",
    "    dict['sign'] =s\n",
    "    dict['parity'] =odd_even\n",
    "    \n",
    "    return dict\n",
    "    \n",
    "    \n",
    "x=0\n",
    "a = checkInt(x)\n",
    "a"
   ]
  },
  {
   "cell_type": "code",
   "execution_count": null,
   "metadata": {},
   "outputs": [],
   "source": [
    "def foo(number):\n",
    "    return dict(sign = \"positive\" if number > 0 else\n",
    "        (\"negative\" if number < 0 else \"zero\"),\n",
    "        parity = \"odd\" if number % 2 == 1 else \n",
    "        (\"even\" if number % 2 == 0 else \"non integer\"))"
   ]
  },
  {
   "cell_type": "code",
   "execution_count": 34,
   "metadata": {},
   "outputs": [
    {
     "name": "stdout",
     "output_type": "stream",
     "text": [
      "True\n"
     ]
    }
   ],
   "source": [
    "def hasLetter(word):\n",
    "    return True if 'e' in word else False\n",
    "\n",
    "\n",
    "print(hasLetter(\"Test\"))"
   ]
  },
  {
   "cell_type": "code",
   "execution_count": 38,
   "metadata": {},
   "outputs": [
    {
     "name": "stdout",
     "output_type": "stream",
     "text": [
      "3\n"
     ]
    }
   ],
   "source": [
    "# Method 3\n",
    "def f00(x):\n",
    "    return x[-1] if len(x) > 0 else None\n",
    "\n",
    "\n",
    "# Test\n",
    "l=[1,2,3]\n",
    "print(f00(l))"
   ]
  },
  {
   "cell_type": "code",
   "execution_count": 70,
   "metadata": {},
   "outputs": [
    {
     "data": {
      "text/plain": [
       "[19, 99]"
      ]
     },
     "execution_count": 70,
     "metadata": {},
     "output_type": "execute_result"
    }
   ],
   "source": [
    "\n",
    "def foo(*args):\n",
    "    lst=[*args][0]\n",
    "    return lst[1:-1]\n",
    "    \n",
    "foo([2,19,99,101])\n",
    "\n"
   ]
  },
  {
   "cell_type": "code",
   "execution_count": 72,
   "metadata": {},
   "outputs": [
    {
     "data": {
      "text/plain": [
       "[1, 2, 3, 4, 5]"
      ]
     },
     "execution_count": 72,
     "metadata": {},
     "output_type": "execute_result"
    }
   ],
   "source": [
    "l[0:]"
   ]
  },
  {
   "cell_type": "code",
   "execution_count": 83,
   "metadata": {},
   "outputs": [
    {
     "name": "stdout",
     "output_type": "stream",
     "text": [
      "[2, 3, 4, 'J']\n"
     ]
    }
   ],
   "source": [
    "def foo(lst, obj):\n",
    "    if len(lst)>= 3:\n",
    "        del lst[0]\n",
    "        lst.append(obj)\n",
    "        return lst\n",
    "    else:\n",
    "        return None\n",
    "l=[1,2,3,4]\n",
    "o =\"J\"\n",
    "print(foo(l,o))"
   ]
  },
  {
   "cell_type": "code",
   "execution_count": 84,
   "metadata": {},
   "outputs": [
    {
     "name": "stdout",
     "output_type": "stream",
     "text": [
      "None\n"
     ]
    }
   ],
   "source": [
    "def foo(lst, item):\n",
    "    if len(lst) == 3:\n",
    "        lst.pop(0)\n",
    "        lst.append(item)\n",
    "        return lst\n",
    "l=[1,2]\n",
    "o =\"J\"\n",
    "print(foo(l,o))"
   ]
  },
  {
   "cell_type": "code",
   "execution_count": 18,
   "metadata": {},
   "outputs": [],
   "source": [
    "def foo(l):\n",
    "    lst=[]   \n",
    "    for i in range(len(l)):\n",
    "        if (i % 7) == 0:\n",
    "            lst.append(l[i])\n",
    "    return lst"
   ]
  },
  {
   "cell_type": "code",
   "execution_count": 21,
   "metadata": {},
   "outputs": [
    {
     "data": {
      "text/plain": [
       "['mon',\n",
       " 'tue',\n",
       " 'wed',\n",
       " 'thu',\n",
       " 'fri',\n",
       " 'mon',\n",
       " 'tue',\n",
       " 'wed',\n",
       " 'thu',\n",
       " 'fri',\n",
       " 'mon',\n",
       " 'tue',\n",
       " 'wed',\n",
       " 'thu',\n",
       " 'fri',\n",
       " 'mon']"
      ]
     },
     "execution_count": 21,
     "metadata": {},
     "output_type": "execute_result"
    }
   ],
   "source": [
    "def foo(mylist):\n",
    "    lst=[]   \n",
    "    for i in range(0,len(l),7):\n",
    "      lst += l[i:i+5]\n",
    "    return lst\n",
    "l=['mon','tue', 'wed', 'thu', 'fri', 'sat', 'sun',\n",
    "  'mon','tue', 'wed', 'thu', 'fri', 'sat', 'sun',\n",
    "  'mon','tue', 'wed', 'thu', 'fri', 'sat', 'sun',\n",
    "  'mon']\n",
    "foo(l)"
   ]
  },
  {
   "cell_type": "code",
   "execution_count": 35,
   "metadata": {},
   "outputs": [
    {
     "data": {
      "text/plain": [
       "['mon',\n",
       " 'tue',\n",
       " 'wed',\n",
       " 'thu',\n",
       " 'fri',\n",
       " 'mon',\n",
       " 'tue',\n",
       " 'wed',\n",
       " 'thu',\n",
       " 'fri',\n",
       " 'mon',\n",
       " 'tue',\n",
       " 'wed',\n",
       " 'thu',\n",
       " 'fri',\n",
       " 'mon']"
      ]
     },
     "execution_count": 35,
     "metadata": {},
     "output_type": "execute_result"
    }
   ],
   "source": [
    "import itertools\n",
    "\n",
    "def foo(mylist):\n",
    "    list_of_lists = [mylist[i:i+5] for i in range(0, len(mylist),7)]\n",
    "    return list(itertools.chain.from_iterable(list_of_lists))\n",
    "\n",
    "l=['mon','tue', 'wed', 'thu', 'fri', 'sat', 'sun',\n",
    "  'mon','tue', 'wed', 'thu', 'fri', 'sat', 'sun',\n",
    "  'mon','tue', 'wed', 'thu', 'fri', 'sat', 'sun',\n",
    "  'mon']\n",
    "foo(l)"
   ]
  },
  {
   "cell_type": "code",
   "execution_count": 37,
   "metadata": {},
   "outputs": [
    {
     "data": {
      "text/plain": [
       "70"
      ]
     },
     "execution_count": 37,
     "metadata": {},
     "output_type": "execute_result"
    }
   ],
   "source": [
    "numbers = [1, 4, 6, 8, 9, 6, 7, 8, 9, 3, \n",
    "           44, 55, 6, 77, 88, 997, 7, 6, \n",
    "           7, 7, 8, 9, 8, 8, 8, 9, 8, 8, \n",
    "           0, 9, 0, 9, 8, 9, 8, 8, 8, 9, \n",
    "           9, 9, 9, 0, 1, 3, 5, 6, 7, 8, \n",
    "           7, 7, 7, 8, 7, 7, 5, 4, 5, 6, \n",
    "           5, 56, 4, 3, 4, 5, 6, 6, 7, 8, 8, 9]\n",
    "len(numbers)"
   ]
  },
  {
   "cell_type": "code",
   "execution_count": 40,
   "metadata": {},
   "outputs": [
    {
     "name": "stdout",
     "output_type": "stream",
     "text": [
      "1\n",
      "6\n",
      "9\n",
      "7\n",
      "9\n",
      "44\n",
      "6\n",
      "88\n",
      "7\n",
      "7\n",
      "8\n",
      "8\n",
      "8\n",
      "8\n",
      "0\n",
      "0\n",
      "8\n",
      "8\n",
      "8\n",
      "9\n",
      "9\n",
      "1\n",
      "5\n",
      "7\n",
      "7\n",
      "7\n",
      "7\n",
      "5\n",
      "5\n",
      "5\n",
      "4\n",
      "4\n",
      "6\n",
      "7\n",
      "8\n"
     ]
    }
   ],
   "source": [
    "for i in range(0,len(numbers),2):\n",
    "    print(numbers[i])"
   ]
  },
  {
   "cell_type": "code",
   "execution_count": 48,
   "metadata": {},
   "outputs": [
    {
     "name": "stdout",
     "output_type": "stream",
     "text": [
      "9.6\n"
     ]
    }
   ],
   "source": [
    "import itertools\n",
    "\n",
    "def foo(mylist,x,y):\n",
    "    list_of_lists = [mylist[i:i+x] for i in range(0, len(mylist),y)]\n",
    "    list_out = list(itertools.chain.from_iterable(list_of_lists))\n",
    "    return sum(list_out)/len(list_out)\n",
    "print(foo(numbers,1,2))"
   ]
  },
  {
   "cell_type": "code",
   "execution_count": 49,
   "metadata": {},
   "outputs": [
    {
     "name": "stdout",
     "output_type": "stream",
     "text": [
      "9.6\n"
     ]
    }
   ],
   "source": [
    "numbers = [1, 4, 6, 8, 9, 6, 7, 8, 9, 3, 44, 55, 6, 77, 88, 997, 7, 6, 7, 7, 8, 9, 8, 8, 8, 9, 8, 8, 0, 9, 0, 9, 8, 9, 8, 8, 8, 9, 9, 9, 9, 0, 1, 3, 5, 6, 7, 8, 7, 7, 7, 8, 7, 7, 5, 4, 5, 6, 5, 56, 4, 3, 4, 5, 6, 6, 7, 8, 8, 9]\n",
    "every2 = numbers[::2]\n",
    "print(sum(every2) / len(every2))"
   ]
  },
  {
   "cell_type": "code",
   "execution_count": 55,
   "metadata": {},
   "outputs": [
    {
     "data": {
      "text/plain": [
       "9"
      ]
     },
     "execution_count": 55,
     "metadata": {},
     "output_type": "execute_result"
    }
   ],
   "source": [
    "lst =[5,8,9,10,11]\n",
    "lst[int(len(lst)/2)]\n",
    "\n"
   ]
  },
  {
   "cell_type": "code",
   "execution_count": 69,
   "metadata": {},
   "outputs": [
    {
     "name": "stdout",
     "output_type": "stream",
     "text": [
      "8\n",
      "4\n"
     ]
    },
    {
     "data": {
      "text/plain": [
       "'e'"
      ]
     },
     "execution_count": 69,
     "metadata": {},
     "output_type": "execute_result"
    }
   ],
   "source": [
    "lst =\"abcdesxc\"\n",
    "def foo(mylist):\n",
    "    print(len(mylist))\n",
    "    if len(mylist)% 2 ==0 and len(mylist)>2:\n",
    "        middle_index = int(len(mylist)/2)\n",
    "        print(middle_index)\n",
    "        return mylist[middle_index]\n",
    "    else:\n",
    "        return \"Bad List\"\n",
    "foo(lst)"
   ]
  },
  {
   "cell_type": "code",
   "execution_count": 74,
   "metadata": {},
   "outputs": [
    {
     "data": {
      "text/plain": [
       "(5, 8, 9, 10, 11)"
      ]
     },
     "execution_count": 74,
     "metadata": {},
     "output_type": "execute_result"
    }
   ],
   "source": [
    "lst =[5,8,9,10,11,5,11,11,8,8]\n",
    "def foo(lst):\n",
    "    tp = tuple(set(lst))\n",
    "    return tp\n",
    "foo(lst)"
   ]
  },
  {
   "cell_type": "code",
   "execution_count": 82,
   "metadata": {},
   "outputs": [
    {
     "name": "stdout",
     "output_type": "stream",
     "text": [
      "10\n",
      "8\n",
      "7\n",
      "5\n",
      "5\n",
      "6\n",
      "4\n",
      "10\n",
      "2\n",
      "6\n",
      "8\n",
      "6\n",
      "9\n",
      "6\n",
      "1\n",
      "6\n",
      "6\n",
      "8\n",
      "7\n",
      "5\n",
      "2\n",
      "10\n",
      "4\n",
      "10\n",
      "3\n",
      "4\n",
      "10\n",
      "8\n",
      "2\n",
      "4\n",
      "4\n",
      "6\n",
      "2\n",
      "1\n",
      "7\n",
      "10\n",
      "6\n",
      "10\n",
      "10\n",
      "7\n",
      "3\n",
      "1\n",
      "9\n",
      "3\n",
      "8\n",
      "8\n",
      "9\n",
      "7\n",
      "4\n",
      "9\n",
      "6\n",
      "1\n",
      "4\n",
      "8\n",
      "8\n",
      "8\n",
      "9\n",
      "6\n",
      "2\n",
      "1\n",
      "7\n",
      "1\n",
      "7\n",
      "10\n",
      "7\n",
      "3\n",
      "4\n",
      "8\n",
      "2\n",
      "1\n",
      "9\n",
      "9\n",
      "10\n",
      "9\n",
      "3\n",
      "2\n",
      "10\n",
      "1\n",
      "3\n",
      "7\n",
      "9\n",
      "10\n",
      "4\n",
      "7\n",
      "5\n",
      "2\n",
      "2\n",
      "6\n",
      "9\n",
      "5\n",
      "8\n",
      "4\n",
      "3\n",
      "10\n",
      "6\n",
      "7\n",
      "2\n",
      "5\n",
      "6\n",
      "5\n",
      "9\n",
      "2\n",
      "6\n",
      "7\n",
      "6\n",
      "10\n",
      "1\n",
      "9\n",
      "10\n",
      "3\n",
      "6\n",
      "5\n",
      "7\n",
      "5\n",
      "9\n",
      "9\n",
      "10\n",
      "2\n",
      "3\n",
      "7\n",
      "3\n",
      "9\n",
      "3\n",
      "7\n",
      "7\n",
      "5\n",
      "4\n",
      "9\n",
      "7\n",
      "7\n",
      "8\n",
      "2\n",
      "8\n",
      "5\n",
      "10\n",
      "8\n",
      "10\n",
      "4\n",
      "6\n",
      "6\n",
      "10\n",
      "4\n",
      "9\n",
      "10\n",
      "9\n",
      "1\n",
      "5\n",
      "3\n",
      "2\n",
      "10\n",
      "6\n",
      "9\n",
      "10\n",
      "6\n",
      "3\n",
      "7\n",
      "10\n",
      "10\n",
      "3\n",
      "9\n",
      "8\n",
      "8\n",
      "7\n",
      "5\n",
      "7\n",
      "9\n",
      "1\n",
      "6\n",
      "5\n",
      "6\n",
      "10\n",
      "7\n",
      "3\n",
      "3\n",
      "3\n",
      "10\n",
      "9\n",
      "7\n",
      "5\n",
      "7\n",
      "7\n",
      "8\n",
      "2\n",
      "2\n",
      "8\n",
      "3\n",
      "5\n",
      "9\n",
      "6\n",
      "3\n",
      "3\n",
      "1\n",
      "3\n",
      "9\n",
      "5\n",
      "2\n",
      "10\n",
      "2\n",
      "7\n",
      "5\n",
      "9\n",
      "4\n",
      "9\n",
      "9\n",
      "3\n",
      "9\n",
      "8\n",
      "8\n",
      "9\n",
      "5\n",
      "9\n",
      "10\n",
      "5\n",
      "3\n",
      "9\n",
      "4\n",
      "9\n",
      "2\n",
      "8\n",
      "6\n",
      "7\n",
      "10\n",
      "10\n",
      "4\n",
      "3\n",
      "7\n",
      "2\n",
      "2\n",
      "6\n",
      "10\n",
      "5\n",
      "10\n",
      "3\n",
      "4\n",
      "2\n",
      "10\n",
      "5\n",
      "9\n",
      "6\n",
      "9\n",
      "6\n",
      "5\n",
      "7\n",
      "5\n",
      "9\n",
      "7\n",
      "10\n",
      "2\n",
      "8\n",
      "5\n",
      "9\n",
      "7\n",
      "1\n",
      "9\n",
      "5\n",
      "7\n",
      "5\n",
      "5\n",
      "8\n",
      "7\n",
      "6\n",
      "3\n",
      "8\n",
      "2\n",
      "3\n",
      "6\n",
      "7\n",
      "2\n",
      "7\n",
      "3\n",
      "6\n",
      "2\n",
      "3\n",
      "5\n",
      "6\n",
      "5\n",
      "10\n",
      "4\n",
      "1\n",
      "2\n",
      "8\n",
      "10\n",
      "3\n",
      "4\n",
      "3\n",
      "8\n",
      "9\n",
      "1\n",
      "2\n",
      "1\n",
      "5\n",
      "10\n",
      "10\n",
      "3\n",
      "2\n",
      "2\n",
      "5\n",
      "6\n",
      "2\n",
      "3\n",
      "1\n",
      "6\n",
      "1\n",
      "6\n",
      "10\n",
      "5\n",
      "4\n",
      "10\n",
      "6\n",
      "10\n",
      "7\n",
      "10\n",
      "1\n",
      "7\n",
      "2\n",
      "9\n",
      "9\n",
      "9\n",
      "9\n",
      "5\n",
      "4\n",
      "9\n",
      "2\n",
      "9\n",
      "10\n",
      "5\n",
      "3\n",
      "5\n",
      "2\n",
      "8\n",
      "1\n",
      "4\n",
      "4\n",
      "7\n",
      "5\n",
      "2\n",
      "7\n",
      "8\n",
      "4\n",
      "2\n",
      "7\n",
      "6\n",
      "8\n",
      "6\n",
      "2\n",
      "3\n",
      "9\n",
      "7\n",
      "8\n",
      "8\n",
      "7\n",
      "9\n",
      "3\n",
      "9\n",
      "6\n",
      "1\n",
      "10\n",
      "3\n",
      "2\n",
      "3\n",
      "4\n",
      "3\n",
      "6\n",
      "7\n",
      "6\n",
      "7\n",
      "8\n",
      "3\n",
      "8\n",
      "9\n",
      "6\n",
      "2\n",
      "5\n",
      "9\n",
      "9\n",
      "7\n",
      "5\n",
      "3\n",
      "10\n",
      "7\n",
      "9\n",
      "2\n",
      "2\n",
      "9\n",
      "10\n",
      "3\n",
      "7\n",
      "1\n",
      "10\n",
      "10\n",
      "2\n",
      "1\n",
      "4\n",
      "2\n",
      "5\n",
      "3\n",
      "3\n",
      "1\n",
      "3\n",
      "6\n",
      "8\n",
      "8\n",
      "1\n",
      "6\n",
      "9\n",
      "8\n",
      "10\n",
      "8\n",
      "3\n",
      "10\n",
      "1\n",
      "1\n",
      "4\n",
      "9\n",
      "3\n",
      "9\n",
      "8\n",
      "2\n",
      "6\n",
      "5\n",
      "5\n",
      "3\n",
      "6\n",
      "2\n",
      "10\n",
      "6\n",
      "8\n",
      "6\n",
      "4\n",
      "1\n",
      "6\n",
      "2\n",
      "3\n",
      "6\n",
      "9\n",
      "1\n",
      "7\n",
      "5\n",
      "5\n",
      "10\n",
      "9\n",
      "9\n",
      "1\n",
      "4\n",
      "8\n",
      "7\n",
      "9\n",
      "1\n",
      "4\n",
      "2\n",
      "4\n",
      "3\n",
      "4\n",
      "7\n",
      "7\n",
      "10\n",
      "10\n",
      "1\n",
      "2\n",
      "9\n",
      "9\n",
      "7\n",
      "10\n",
      "8\n",
      "2\n",
      "2\n",
      "9\n",
      "5\n",
      "4\n",
      "10\n",
      "3\n",
      "4\n",
      "3\n",
      "10\n",
      "3\n",
      "10\n",
      "3\n",
      "4\n",
      "8\n",
      "8\n",
      "4\n",
      "7\n",
      "7\n",
      "9\n",
      "4\n",
      "7\n",
      "7\n",
      "10\n",
      "5\n",
      "9\n",
      "6\n",
      "1\n",
      "1\n",
      "8\n",
      "4\n",
      "3\n",
      "4\n",
      "9\n",
      "1\n",
      "9\n",
      "5\n",
      "9\n",
      "8\n",
      "9\n",
      "8\n",
      "6\n",
      "8\n",
      "9\n",
      "9\n",
      "4\n",
      "10\n",
      "9\n",
      "6\n",
      "5\n",
      "8\n",
      "3\n",
      "5\n",
      "7\n",
      "1\n",
      "5\n",
      "8\n",
      "1\n",
      "1\n",
      "5\n",
      "2\n",
      "3\n",
      "4\n",
      "5\n",
      "2\n",
      "10\n",
      "10\n",
      "9\n",
      "10\n",
      "2\n",
      "10\n",
      "7\n",
      "9\n",
      "10\n",
      "5\n",
      "10\n",
      "3\n",
      "3\n",
      "5\n",
      "8\n",
      "5\n",
      "5\n",
      "9\n",
      "3\n",
      "4\n",
      "4\n",
      "5\n",
      "10\n",
      "6\n",
      "9\n",
      "6\n",
      "10\n",
      "3\n",
      "5\n",
      "2\n",
      "10\n",
      "5\n",
      "3\n",
      "2\n",
      "10\n",
      "7\n",
      "8\n",
      "3\n",
      "3\n",
      "1\n",
      "7\n",
      "9\n",
      "2\n",
      "1\n",
      "6\n",
      "3\n",
      "7\n",
      "9\n",
      "2\n",
      "5\n",
      "6\n",
      "9\n",
      "6\n",
      "1\n",
      "10\n",
      "8\n",
      "6\n",
      "4\n",
      "7\n",
      "9\n",
      "6\n",
      "6\n",
      "10\n",
      "4\n",
      "2\n",
      "5\n",
      "7\n",
      "1\n",
      "10\n",
      "8\n",
      "4\n",
      "7\n",
      "5\n",
      "5\n",
      "7\n",
      "7\n",
      "8\n",
      "10\n",
      "7\n",
      "3\n",
      "8\n",
      "8\n",
      "8\n",
      "3\n",
      "2\n",
      "3\n",
      "6\n",
      "8\n",
      "9\n",
      "2\n",
      "10\n",
      "7\n",
      "7\n",
      "3\n",
      "2\n",
      "5\n",
      "6\n",
      "2\n",
      "9\n",
      "7\n",
      "10\n",
      "2\n",
      "9\n",
      "9\n",
      "10\n",
      "9\n",
      "3\n",
      "1\n",
      "2\n",
      "9\n",
      "9\n",
      "8\n",
      "4\n",
      "2\n",
      "7\n",
      "8\n",
      "8\n",
      "8\n",
      "4\n",
      "8\n",
      "1\n",
      "7\n",
      "1\n",
      "6\n",
      "5\n",
      "5\n",
      "1\n",
      "8\n",
      "9\n",
      "7\n",
      "7\n",
      "5\n",
      "10\n",
      "4\n",
      "8\n",
      "7\n",
      "3\n",
      "6\n",
      "3\n",
      "10\n",
      "3\n",
      "1\n",
      "4\n",
      "8\n",
      "6\n",
      "10\n",
      "8\n",
      "2\n",
      "7\n",
      "3\n",
      "3\n",
      "1\n",
      "3\n",
      "1\n",
      "3\n",
      "8\n",
      "3\n",
      "5\n",
      "7\n",
      "3\n",
      "5\n",
      "10\n",
      "4\n",
      "1\n",
      "7\n",
      "9\n",
      "1\n",
      "6\n",
      "8\n",
      "5\n",
      "4\n",
      "8\n",
      "8\n",
      "7\n",
      "4\n",
      "10\n",
      "3\n",
      "10\n",
      "7\n",
      "8\n",
      "6\n",
      "9\n",
      "7\n",
      "5\n",
      "8\n",
      "1\n",
      "1\n",
      "1\n",
      "7\n",
      "10\n",
      "5\n",
      "5\n",
      "1\n",
      "9\n",
      "6\n",
      "5\n",
      "10\n",
      "6\n",
      "5\n",
      "6\n",
      "3\n",
      "10\n",
      "7\n",
      "7\n",
      "10\n",
      "4\n",
      "8\n",
      "6\n",
      "3\n",
      "7\n",
      "1\n",
      "1\n",
      "7\n",
      "3\n",
      "1\n",
      "3\n",
      "5\n",
      "9\n",
      "6\n",
      "10\n",
      "10\n",
      "4\n",
      "9\n",
      "1\n",
      "8\n",
      "6\n",
      "3\n",
      "8\n",
      "9\n",
      "1\n",
      "5\n",
      "5\n",
      "7\n",
      "9\n",
      "10\n",
      "3\n",
      "4\n",
      "7\n",
      "8\n",
      "6\n",
      "2\n",
      "1\n",
      "9\n",
      "7\n",
      "4\n",
      "6\n",
      "10\n",
      "3\n",
      "8\n",
      "10\n",
      "6\n",
      "9\n",
      "8\n",
      "5\n",
      "7\n",
      "3\n",
      "1\n",
      "5\n",
      "10\n",
      "5\n",
      "4\n",
      "4\n",
      "10\n",
      "6\n",
      "7\n",
      "8\n",
      "10\n",
      "5\n",
      "7\n",
      "7\n",
      "10\n",
      "7\n",
      "6\n",
      "5\n",
      "6\n",
      "8\n",
      "1\n",
      "5\n",
      "4\n",
      "10\n",
      "5\n",
      "1\n",
      "8\n",
      "2\n",
      "2\n",
      "8\n",
      "7\n",
      "10\n",
      "2\n",
      "6\n",
      "1\n",
      "1\n",
      "8\n",
      "2\n",
      "5\n",
      "5\n",
      "1\n",
      "3\n",
      "5\n",
      "9\n",
      "5\n",
      "9\n",
      "2\n",
      "9\n",
      "2\n",
      "9\n",
      "10\n",
      "9\n",
      "4\n",
      "4\n",
      "6\n",
      "1\n",
      "2\n",
      "3\n",
      "6\n",
      "6\n",
      "4\n",
      "5\n",
      "1\n",
      "2\n",
      "3\n",
      "4\n",
      "5\n",
      "9\n",
      "8\n",
      "5\n",
      "1\n",
      "8\n",
      "8\n",
      "1\n",
      "2\n",
      "3\n",
      "5\n",
      "7\n",
      "6\n",
      "8\n",
      "3\n",
      "1\n",
      "5\n",
      "10\n",
      "3\n",
      "3\n",
      "9\n",
      "7\n",
      "10\n",
      "7\n",
      "1\n",
      "6\n",
      "6\n",
      "1\n",
      "8\n",
      "7\n",
      "6\n",
      "7\n",
      "6\n",
      "10\n",
      "5\n",
      "7\n",
      "2\n",
      "3\n",
      "1\n",
      "5\n",
      "1\n",
      "1\n",
      "9\n",
      "4\n",
      "2\n",
      "9\n",
      "10\n",
      "1\n",
      "2\n",
      "10\n",
      "5\n",
      "6\n",
      "10\n",
      "9\n",
      "6\n",
      "6\n",
      "4\n",
      "2\n",
      "2\n",
      "2\n",
      "7\n",
      "4\n",
      "9\n",
      "7\n",
      "2\n",
      "8\n",
      "7\n",
      "2\n",
      "9\n",
      "8\n",
      "8\n",
      "9\n",
      "8\n",
      "7\n",
      "4\n",
      "5\n",
      "5\n",
      "1\n",
      "3\n",
      "7\n",
      "10\n",
      "1\n",
      "8\n",
      "3\n",
      "4\n",
      "4\n",
      "8\n",
      "7\n",
      "4\n",
      "1\n",
      "4\n",
      "9\n",
      "5\n",
      "6\n",
      "6\n",
      "8\n",
      "7\n",
      "3\n",
      "8\n",
      "6\n",
      "6\n",
      "4\n",
      "8\n",
      "4\n",
      "5\n",
      "6\n",
      "8\n",
      "4\n",
      "2\n",
      "2\n",
      "10\n",
      "10\n",
      "10\n",
      "2\n",
      "7\n",
      "2\n",
      "3\n",
      "1\n",
      "2\n",
      "6\n",
      "7\n",
      "1\n",
      "2\n",
      "7\n",
      "9\n",
      "6\n",
      "7\n",
      "6\n",
      "10\n",
      "8\n",
      "9\n",
      "4\n",
      "4\n",
      "7\n",
      "6\n",
      "8\n",
      "6\n",
      "1\n",
      "2\n",
      "9\n",
      "9\n",
      "1\n",
      "9\n",
      "4\n",
      "9\n",
      "9\n",
      "9\n",
      "2\n",
      "5\n"
     ]
    }
   ],
   "source": [
    "import random\n",
    "  \n",
    "# Generates a random number between\n",
    "# a given positive range\n",
    "for i in range(1000):\n",
    "    r1 = random.randint(1, 10)\n",
    "    print(r1)"
   ]
  },
  {
   "cell_type": "code",
   "execution_count": 85,
   "metadata": {},
   "outputs": [
    {
     "data": {
      "text/plain": [
       "[5,\n",
       " 5,\n",
       " 8,\n",
       " 9,\n",
       " 5,\n",
       " 3,\n",
       " 10,\n",
       " 1,\n",
       " 8,\n",
       " 5,\n",
       " 9,\n",
       " 8,\n",
       " 3,\n",
       " 6,\n",
       " 5,\n",
       " 6,\n",
       " 2,\n",
       " 9,\n",
       " 2,\n",
       " 3,\n",
       " 2,\n",
       " 4,\n",
       " 7,\n",
       " 2,\n",
       " 2,\n",
       " 1,\n",
       " 9,\n",
       " 1,\n",
       " 6,\n",
       " 6,\n",
       " 7,\n",
       " 6,\n",
       " 7,\n",
       " 6,\n",
       " 10,\n",
       " 10,\n",
       " 9,\n",
       " 8,\n",
       " 6,\n",
       " 1,\n",
       " 1,\n",
       " 4,\n",
       " 1,\n",
       " 6,\n",
       " 6,\n",
       " 2,\n",
       " 3,\n",
       " 5,\n",
       " 8,\n",
       " 6,\n",
       " 4,\n",
       " 8,\n",
       " 2,\n",
       " 6,\n",
       " 9,\n",
       " 3,\n",
       " 9,\n",
       " 6,\n",
       " 8,\n",
       " 8,\n",
       " 6,\n",
       " 1,\n",
       " 6,\n",
       " 10,\n",
       " 5,\n",
       " 8,\n",
       " 5,\n",
       " 6,\n",
       " 9,\n",
       " 5,\n",
       " 5,\n",
       " 5,\n",
       " 7,\n",
       " 4,\n",
       " 6,\n",
       " 7,\n",
       " 4,\n",
       " 1,\n",
       " 4,\n",
       " 4,\n",
       " 4,\n",
       " 3,\n",
       " 7,\n",
       " 3,\n",
       " 7,\n",
       " 1,\n",
       " 1,\n",
       " 5,\n",
       " 3,\n",
       " 1,\n",
       " 8,\n",
       " 6,\n",
       " 6,\n",
       " 7,\n",
       " 10,\n",
       " 10,\n",
       " 1,\n",
       " 4,\n",
       " 8,\n",
       " 10,\n",
       " 10,\n",
       " 9,\n",
       " 8,\n",
       " 6,\n",
       " 6,\n",
       " 5,\n",
       " 10,\n",
       " 8,\n",
       " 6,\n",
       " 10,\n",
       " 3,\n",
       " 5,\n",
       " 2,\n",
       " 7,\n",
       " 8,\n",
       " 4,\n",
       " 10,\n",
       " 3,\n",
       " 1,\n",
       " 7,\n",
       " 1,\n",
       " 4,\n",
       " 10,\n",
       " 1,\n",
       " 3,\n",
       " 6,\n",
       " 4,\n",
       " 7,\n",
       " 4,\n",
       " 6,\n",
       " 5,\n",
       " 6,\n",
       " 2,\n",
       " 9,\n",
       " 10,\n",
       " 1,\n",
       " 6,\n",
       " 8,\n",
       " 2,\n",
       " 3,\n",
       " 1,\n",
       " 4,\n",
       " 8,\n",
       " 3,\n",
       " 5,\n",
       " 6,\n",
       " 2,\n",
       " 4,\n",
       " 6,\n",
       " 6,\n",
       " 10,\n",
       " 8,\n",
       " 2,\n",
       " 10,\n",
       " 7,\n",
       " 2,\n",
       " 6,\n",
       " 4,\n",
       " 2,\n",
       " 3,\n",
       " 10,\n",
       " 1,\n",
       " 7,\n",
       " 3,\n",
       " 2,\n",
       " 8,\n",
       " 5,\n",
       " 8,\n",
       " 10,\n",
       " 1,\n",
       " 5,\n",
       " 4,\n",
       " 2,\n",
       " 6,\n",
       " 9,\n",
       " 1,\n",
       " 7,\n",
       " 8,\n",
       " 2,\n",
       " 7,\n",
       " 1,\n",
       " 6,\n",
       " 3,\n",
       " 8,\n",
       " 2,\n",
       " 4,\n",
       " 7,\n",
       " 1,\n",
       " 6,\n",
       " 7,\n",
       " 10,\n",
       " 7,\n",
       " 5,\n",
       " 7,\n",
       " 7,\n",
       " 6,\n",
       " 10,\n",
       " 2,\n",
       " 9,\n",
       " 6,\n",
       " 8,\n",
       " 5,\n",
       " 6,\n",
       " 6,\n",
       " 1,\n",
       " 2,\n",
       " 8,\n",
       " 3,\n",
       " 5,\n",
       " 3,\n",
       " 9,\n",
       " 9,\n",
       " 1,\n",
       " 1,\n",
       " 10,\n",
       " 4,\n",
       " 7,\n",
       " 5,\n",
       " 5,\n",
       " 3,\n",
       " 7,\n",
       " 8,\n",
       " 6,\n",
       " 8,\n",
       " 6,\n",
       " 1,\n",
       " 2,\n",
       " 5,\n",
       " 9,\n",
       " 9,\n",
       " 6,\n",
       " 2,\n",
       " 1,\n",
       " 5,\n",
       " 10,\n",
       " 7,\n",
       " 4,\n",
       " 8,\n",
       " 7,\n",
       " 2,\n",
       " 9,\n",
       " 3,\n",
       " 7,\n",
       " 4,\n",
       " 5,\n",
       " 5,\n",
       " 1,\n",
       " 3,\n",
       " 6,\n",
       " 9,\n",
       " 10,\n",
       " 3,\n",
       " 4,\n",
       " 10,\n",
       " 8,\n",
       " 9,\n",
       " 7,\n",
       " 8,\n",
       " 1,\n",
       " 5,\n",
       " 9,\n",
       " 7,\n",
       " 6,\n",
       " 8,\n",
       " 6,\n",
       " 3,\n",
       " 7,\n",
       " 7,\n",
       " 8,\n",
       " 10,\n",
       " 1,\n",
       " 2,\n",
       " 6,\n",
       " 9,\n",
       " 2,\n",
       " 9,\n",
       " 5,\n",
       " 6,\n",
       " 2,\n",
       " 2,\n",
       " 5,\n",
       " 3,\n",
       " 8,\n",
       " 5,\n",
       " 9,\n",
       " 2,\n",
       " 5,\n",
       " 2,\n",
       " 6,\n",
       " 1,\n",
       " 8,\n",
       " 3,\n",
       " 9,\n",
       " 7,\n",
       " 7,\n",
       " 4,\n",
       " 6,\n",
       " 10,\n",
       " 10,\n",
       " 6,\n",
       " 6,\n",
       " 9,\n",
       " 8,\n",
       " 8,\n",
       " 9,\n",
       " 4,\n",
       " 9,\n",
       " 4,\n",
       " 3,\n",
       " 9,\n",
       " 8,\n",
       " 1,\n",
       " 8,\n",
       " 2,\n",
       " 10,\n",
       " 7,\n",
       " 4,\n",
       " 4,\n",
       " 5,\n",
       " 6,\n",
       " 1,\n",
       " 1,\n",
       " 7,\n",
       " 9,\n",
       " 10,\n",
       " 6,\n",
       " 2,\n",
       " 2,\n",
       " 4,\n",
       " 1,\n",
       " 8,\n",
       " 5,\n",
       " 5,\n",
       " 5,\n",
       " 9,\n",
       " 6,\n",
       " 3,\n",
       " 10,\n",
       " 3,\n",
       " 9,\n",
       " 9,\n",
       " 5,\n",
       " 10,\n",
       " 6,\n",
       " 1,\n",
       " 7,\n",
       " 5,\n",
       " 2,\n",
       " 5,\n",
       " 7,\n",
       " 1,\n",
       " 8,\n",
       " 8,\n",
       " 6,\n",
       " 9,\n",
       " 4,\n",
       " 3,\n",
       " 9,\n",
       " 10,\n",
       " 6,\n",
       " 9,\n",
       " 4,\n",
       " 5,\n",
       " 9,\n",
       " 10,\n",
       " 9,\n",
       " 10,\n",
       " 8,\n",
       " 4,\n",
       " 2,\n",
       " 4,\n",
       " 3,\n",
       " 7,\n",
       " 7,\n",
       " 6,\n",
       " 4,\n",
       " 6,\n",
       " 10,\n",
       " 5,\n",
       " 7,\n",
       " 7,\n",
       " 4,\n",
       " 10,\n",
       " 1,\n",
       " 4,\n",
       " 9,\n",
       " 1,\n",
       " 9,\n",
       " 10,\n",
       " 8,\n",
       " 8,\n",
       " 7,\n",
       " 1,\n",
       " 8,\n",
       " 5,\n",
       " 7,\n",
       " 9,\n",
       " 10,\n",
       " 4,\n",
       " 4,\n",
       " 8,\n",
       " 6,\n",
       " 5,\n",
       " 2,\n",
       " 3,\n",
       " 1,\n",
       " 8,\n",
       " 4,\n",
       " 10,\n",
       " 8,\n",
       " 1,\n",
       " 5,\n",
       " 5,\n",
       " 2,\n",
       " 5,\n",
       " 5,\n",
       " 7,\n",
       " 1,\n",
       " 10,\n",
       " 9,\n",
       " 7,\n",
       " 3,\n",
       " 4,\n",
       " 7,\n",
       " 5,\n",
       " 1,\n",
       " 9,\n",
       " 10,\n",
       " 2,\n",
       " 3,\n",
       " 5,\n",
       " 4,\n",
       " 3,\n",
       " 7,\n",
       " 8,\n",
       " 5,\n",
       " 9,\n",
       " 1,\n",
       " 7,\n",
       " 9,\n",
       " 2,\n",
       " 10,\n",
       " 9,\n",
       " 1,\n",
       " 10,\n",
       " 9,\n",
       " 2,\n",
       " 2,\n",
       " 10,\n",
       " 1,\n",
       " 7,\n",
       " 10,\n",
       " 9,\n",
       " 5,\n",
       " 8,\n",
       " 9,\n",
       " 8,\n",
       " 1,\n",
       " 2,\n",
       " 7,\n",
       " 3,\n",
       " 6,\n",
       " 4,\n",
       " 2,\n",
       " 1,\n",
       " 9,\n",
       " 7,\n",
       " 7,\n",
       " 4,\n",
       " 4,\n",
       " 1,\n",
       " 6,\n",
       " 1,\n",
       " 6,\n",
       " 5,\n",
       " 6,\n",
       " 9,\n",
       " 9,\n",
       " 4,\n",
       " 6,\n",
       " 2,\n",
       " 6,\n",
       " 3,\n",
       " 7,\n",
       " 3,\n",
       " 5,\n",
       " 8,\n",
       " 4,\n",
       " 6,\n",
       " 2,\n",
       " 10,\n",
       " 6,\n",
       " 6,\n",
       " 8,\n",
       " 4,\n",
       " 9,\n",
       " 2,\n",
       " 2,\n",
       " 4,\n",
       " 2,\n",
       " 5,\n",
       " 3,\n",
       " 2,\n",
       " 6,\n",
       " 4,\n",
       " 2,\n",
       " 1,\n",
       " 8,\n",
       " 6,\n",
       " 6,\n",
       " 6,\n",
       " 8,\n",
       " 7,\n",
       " 5,\n",
       " 4,\n",
       " 5,\n",
       " 4,\n",
       " 5,\n",
       " 3,\n",
       " 6,\n",
       " 10,\n",
       " 5,\n",
       " 3,\n",
       " 10,\n",
       " 9,\n",
       " 4,\n",
       " 3,\n",
       " 2,\n",
       " 9,\n",
       " 2,\n",
       " 3,\n",
       " 5,\n",
       " 10,\n",
       " 1,\n",
       " 4,\n",
       " 8,\n",
       " 9,\n",
       " 4,\n",
       " 9,\n",
       " 9,\n",
       " 8,\n",
       " 1,\n",
       " 1,\n",
       " 5,\n",
       " 8,\n",
       " 10,\n",
       " 2,\n",
       " 1,\n",
       " 6,\n",
       " 2,\n",
       " 6,\n",
       " 2,\n",
       " 3,\n",
       " 8,\n",
       " 8,\n",
       " 2,\n",
       " 4,\n",
       " 8,\n",
       " 9,\n",
       " 7,\n",
       " 6,\n",
       " 5,\n",
       " 3,\n",
       " 2,\n",
       " 5,\n",
       " 6,\n",
       " 7,\n",
       " 9,\n",
       " 8,\n",
       " 9,\n",
       " 7,\n",
       " 6,\n",
       " 10,\n",
       " 7,\n",
       " 3,\n",
       " 1,\n",
       " 2,\n",
       " 5,\n",
       " 5,\n",
       " 3,\n",
       " 6,\n",
       " 7,\n",
       " 7,\n",
       " 7,\n",
       " 8,\n",
       " 5,\n",
       " 10,\n",
       " 9,\n",
       " 8,\n",
       " 10,\n",
       " 1,\n",
       " 5,\n",
       " 7,\n",
       " 1,\n",
       " 6,\n",
       " 7,\n",
       " 7,\n",
       " 8,\n",
       " 9,\n",
       " 9,\n",
       " 6,\n",
       " 4,\n",
       " 10,\n",
       " 7,\n",
       " 5,\n",
       " 7,\n",
       " 5,\n",
       " 6,\n",
       " 3,\n",
       " 5,\n",
       " 1,\n",
       " 6,\n",
       " 4,\n",
       " 3,\n",
       " 10,\n",
       " 1,\n",
       " 4,\n",
       " 7,\n",
       " 2,\n",
       " 7,\n",
       " 3,\n",
       " 9,\n",
       " 10,\n",
       " 2,\n",
       " 8,\n",
       " 5,\n",
       " 4,\n",
       " 6,\n",
       " 9,\n",
       " 3,\n",
       " 4,\n",
       " 3,\n",
       " 8,\n",
       " 2,\n",
       " 10,\n",
       " 2,\n",
       " 5,\n",
       " 2,\n",
       " 4,\n",
       " 5,\n",
       " 10,\n",
       " 4,\n",
       " 7,\n",
       " 4,\n",
       " 2,\n",
       " 1,\n",
       " 7,\n",
       " 4,\n",
       " 2,\n",
       " 5,\n",
       " 4,\n",
       " 4,\n",
       " 7,\n",
       " 10,\n",
       " 7,\n",
       " 3,\n",
       " 3,\n",
       " 5,\n",
       " 8,\n",
       " 1,\n",
       " 5,\n",
       " 4,\n",
       " 2,\n",
       " 2,\n",
       " 3,\n",
       " 9,\n",
       " 2,\n",
       " 6,\n",
       " 4,\n",
       " 5,\n",
       " 5,\n",
       " 4,\n",
       " 7,\n",
       " 6,\n",
       " 3,\n",
       " 9,\n",
       " 7,\n",
       " 3,\n",
       " 8,\n",
       " 2,\n",
       " 1,\n",
       " 1,\n",
       " 9,\n",
       " 2,\n",
       " 5,\n",
       " 4,\n",
       " 6,\n",
       " 8,\n",
       " 4,\n",
       " 10,\n",
       " 1,\n",
       " 3,\n",
       " 7,\n",
       " 9,\n",
       " 8,\n",
       " 3,\n",
       " 3,\n",
       " 4,\n",
       " 10,\n",
       " 2,\n",
       " 2,\n",
       " 6,\n",
       " 7,\n",
       " 3,\n",
       " 6,\n",
       " 6,\n",
       " 2,\n",
       " 7,\n",
       " 5,\n",
       " 7,\n",
       " 7,\n",
       " 2,\n",
       " 7,\n",
       " 5,\n",
       " 2,\n",
       " 10,\n",
       " 1,\n",
       " 9,\n",
       " 7,\n",
       " 8,\n",
       " 5,\n",
       " 6,\n",
       " 8,\n",
       " 5,\n",
       " 3,\n",
       " 3,\n",
       " 4,\n",
       " 7,\n",
       " 6,\n",
       " 3,\n",
       " 2,\n",
       " 8,\n",
       " 10,\n",
       " 2,\n",
       " 3,\n",
       " 2,\n",
       " 4,\n",
       " 3,\n",
       " 6,\n",
       " 5,\n",
       " 3,\n",
       " 2,\n",
       " 3,\n",
       " 6,\n",
       " 9,\n",
       " 5,\n",
       " 2,\n",
       " 7,\n",
       " 10,\n",
       " 2,\n",
       " 7,\n",
       " 10,\n",
       " 3,\n",
       " 4,\n",
       " 2,\n",
       " 2,\n",
       " 9,\n",
       " 3,\n",
       " 4,\n",
       " 5,\n",
       " 6,\n",
       " 7,\n",
       " 7,\n",
       " 5,\n",
       " 1,\n",
       " 9,\n",
       " 9,\n",
       " 5,\n",
       " 10,\n",
       " 3,\n",
       " 9,\n",
       " 2,\n",
       " 9,\n",
       " 10,\n",
       " 9,\n",
       " 2,\n",
       " 8,\n",
       " 1,\n",
       " 7,\n",
       " 6,\n",
       " 4,\n",
       " 7,\n",
       " 1,\n",
       " 6,\n",
       " 9,\n",
       " 7,\n",
       " 10,\n",
       " 9,\n",
       " 3,\n",
       " 10,\n",
       " 10,\n",
       " 5,\n",
       " 4,\n",
       " 5,\n",
       " 8,\n",
       " 10,\n",
       " 6,\n",
       " 9,\n",
       " 10,\n",
       " 3,\n",
       " 1,\n",
       " 7,\n",
       " 4,\n",
       " 10,\n",
       " 9,\n",
       " 1,\n",
       " 7,\n",
       " 4,\n",
       " 10,\n",
       " 5,\n",
       " 4,\n",
       " 3,\n",
       " 7,\n",
       " 4,\n",
       " 4,\n",
       " 10,\n",
       " 3,\n",
       " 2,\n",
       " 1,\n",
       " 6,\n",
       " 3,\n",
       " 3,\n",
       " 10,\n",
       " 1,\n",
       " 6,\n",
       " 1,\n",
       " 8,\n",
       " 2,\n",
       " 4,\n",
       " 2,\n",
       " 7,\n",
       " 1,\n",
       " 4,\n",
       " 3,\n",
       " 6,\n",
       " 10,\n",
       " 1,\n",
       " 8,\n",
       " 2,\n",
       " 4,\n",
       " 7,\n",
       " 6,\n",
       " 5,\n",
       " 2,\n",
       " 10,\n",
       " 10,\n",
       " 3,\n",
       " 6,\n",
       " 1,\n",
       " 4,\n",
       " 8,\n",
       " 9,\n",
       " 1,\n",
       " 2,\n",
       " 9,\n",
       " 5,\n",
       " 6,\n",
       " 10,\n",
       " 3,\n",
       " 8,\n",
       " 2,\n",
       " 7,\n",
       " 5,\n",
       " 3,\n",
       " 2,\n",
       " 3,\n",
       " 4,\n",
       " 9,\n",
       " 8,\n",
       " 8,\n",
       " 9,\n",
       " 6,\n",
       " 10,\n",
       " 8,\n",
       " 2,\n",
       " 2,\n",
       " 4,\n",
       " 1,\n",
       " 4,\n",
       " 5,\n",
       " 4,\n",
       " 7,\n",
       " 9,\n",
       " 5,\n",
       " 2,\n",
       " 2,\n",
       " 6,\n",
       " 3,\n",
       " 4,\n",
       " 6,\n",
       " 10,\n",
       " 9,\n",
       " 3,\n",
       " 1,\n",
       " 3,\n",
       " 3,\n",
       " 8,\n",
       " 3,\n",
       " 10,\n",
       " 9,\n",
       " 8,\n",
       " 1,\n",
       " 1,\n",
       " 6,\n",
       " 2,\n",
       " 5,\n",
       " 3,\n",
       " 1,\n",
       " 1,\n",
       " 3,\n",
       " 3,\n",
       " 4,\n",
       " 8,\n",
       " 1,\n",
       " 5,\n",
       " 9,\n",
       " 1,\n",
       " 8,\n",
       " 6,\n",
       " 5,\n",
       " 7,\n",
       " 1,\n",
       " 7,\n",
       " 9,\n",
       " 10,\n",
       " 9,\n",
       " 10,\n",
       " 3,\n",
       " 3,\n",
       " 7,\n",
       " 8,\n",
       " 2,\n",
       " 8,\n",
       " 5,\n",
       " 7,\n",
       " 7,\n",
       " 7,\n",
       " 7,\n",
       " 9,\n",
       " 1,\n",
       " 1,\n",
       " 8,\n",
       " 8,\n",
       " 7,\n",
       " 1,\n",
       " 9,\n",
       " 3,\n",
       " 4,\n",
       " 8,\n",
       " 7,\n",
       " 9,\n",
       " 4,\n",
       " 6,\n",
       " 8,\n",
       " 1,\n",
       " 8,\n",
       " 6,\n",
       " 4,\n",
       " 2,\n",
       " 7,\n",
       " 9,\n",
       " 6,\n",
       " 6,\n",
       " 1,\n",
       " 7,\n",
       " 4,\n",
       " 6,\n",
       " 5,\n",
       " 10,\n",
       " 1,\n",
       " 8,\n",
       " 7,\n",
       " 8,\n",
       " 7,\n",
       " 6,\n",
       " 8,\n",
       " 10,\n",
       " 5,\n",
       " 2,\n",
       " 1,\n",
       " 6,\n",
       " 3,\n",
       " 3,\n",
       " 7,\n",
       " 9,\n",
       " 6,\n",
       " 8,\n",
       " 2,\n",
       " 2,\n",
       " 2,\n",
       " 4,\n",
       " 1,\n",
       " 6,\n",
       " 2,\n",
       " 8,\n",
       " 10,\n",
       " 4,\n",
       " 7,\n",
       " 5,\n",
       " 6]"
      ]
     },
     "execution_count": 85,
     "metadata": {},
     "output_type": "execute_result"
    }
   ],
   "source": [
    "import random\n",
    "def foo():\n",
    "    return [random.randint(1,10) for i in range(1000)]\n",
    "foo()"
   ]
  },
  {
   "cell_type": "code",
   "execution_count": 108,
   "metadata": {},
   "outputs": [
    {
     "data": {
      "text/plain": [
       "['bbxxx', 'xxx']"
      ]
     },
     "execution_count": 108,
     "metadata": {},
     "output_type": "execute_result"
    }
   ],
   "source": [
    "def foo(*args):   \n",
    "    l=list(args)\n",
    "    return [item for item in l[0] if \"xxx\" in str(item)]\n",
    "\n",
    "foo([\"a\", 1, \"bbxxx\", \"xxx\"])\n",
    "       "
   ]
  },
  {
   "cell_type": "code",
   "execution_count": 86,
   "metadata": {},
   "outputs": [
    {
     "name": "stdout",
     "output_type": "stream",
     "text": [
      "[0, 1, 2, 3, 4]\n"
     ]
    }
   ],
   "source": [
    "def return_list():\n",
    "   return [x for x in range(5)]\n",
    "\n",
    "result = return_list()\n",
    "\n",
    "print(result)\n"
   ]
  },
  {
   "cell_type": "code",
   "execution_count": 109,
   "metadata": {},
   "outputs": [
    {
     "data": {
      "text/plain": [
       "[50, 100, 150]"
      ]
     },
     "execution_count": 109,
     "metadata": {},
     "output_type": "execute_result"
    }
   ],
   "source": [
    "l=[10,20,30]\n",
    "[item*5 for item in l]"
   ]
  },
  {
   "cell_type": "code",
   "execution_count": 110,
   "metadata": {},
   "outputs": [
    {
     "name": "stdout",
     "output_type": "stream",
     "text": [
      "{'b', 'c', 'a'}\n"
     ]
    }
   ],
   "source": [
    "mylist=[\"a\",\"b\", \"c\",\"c\"]\n",
    "print(set(mylist))"
   ]
  },
  {
   "cell_type": "code",
   "execution_count": 119,
   "metadata": {},
   "outputs": [
    {
     "data": {
      "text/plain": [
       "10"
      ]
     },
     "execution_count": 119,
     "metadata": {},
     "output_type": "execute_result"
    }
   ],
   "source": [
    "dict={\"a\":1, \"b\":3, \"c\":6}\n",
    "sum(dict.values())"
   ]
  },
  {
   "cell_type": "code",
   "execution_count": 116,
   "metadata": {},
   "outputs": [
    {
     "name": "stdout",
     "output_type": "stream",
     "text": [
      " all values in dictionary are: [47, 19, 92]\n"
     ]
    }
   ],
   "source": [
    "my_dictionary = {'k' : 47, 'l' : 19, 'm' : 92}\n",
    "new_output = list(my_dictionary.values())\n",
    "print(\" all values in dictionary are:\",new_output)"
   ]
  },
  {
   "cell_type": "code",
   "execution_count": 132,
   "metadata": {},
   "outputs": [
    {
     "data": {
      "text/plain": [
       "10"
      ]
     },
     "execution_count": 132,
     "metadata": {},
     "output_type": "execute_result"
    }
   ],
   "source": [
    "dict={\"a\":[1,2], \"b\":[3,4]}\n",
    "def foo(mydict):\n",
    "    ml=[]\n",
    "    for i in list(mydict.values()):\n",
    "        ml+=i\n",
    "    return sum(ml)\n",
    "foo(dict)"
   ]
  },
  {
   "cell_type": "code",
   "execution_count": 159,
   "metadata": {},
   "outputs": [
    {
     "data": {
      "text/plain": [
       "{'a': 5}"
      ]
     },
     "execution_count": 159,
     "metadata": {},
     "output_type": "execute_result"
    }
   ],
   "source": [
    "dict={\"a\":5, \"b\":3, \"c\":10.1}\n",
    "def foo(mydict):\n",
    "    data={}\n",
    "    for key, value in mydict.items():\n",
    "        if value>4 and isinstance(value, int):\n",
    "            data[key]= value\n",
    "    return data\n",
    "foo(dict)\n"
   ]
  },
  {
   "cell_type": "code",
   "execution_count": 158,
   "metadata": {},
   "outputs": [],
   "source": [
    "# mydict={\"a\":5, \"b\":3, \"c\":10}\n",
    "# dict((key, value) for key, value in mydict.items() if value > 4)"
   ]
  },
  {
   "cell_type": "code",
   "execution_count": 7,
   "metadata": {},
   "outputs": [
    {
     "data": {
      "text/plain": [
       "'14:52'"
      ]
     },
     "execution_count": 7,
     "metadata": {},
     "output_type": "execute_result"
    }
   ],
   "source": [
    "import datetime\n",
    "v = {\n",
    "    \"hello\" : \"Hi there!\",\n",
    "    \"what's your name\" : \"My name is Roboto!\",\n",
    "    \"what is your name\" : \"My name is Roboto!\",\n",
    "    \"bye\" : \"Goodbye!\",\n",
    "    \"what time is it\" : datetime.datetime.now().strftime(\"%H:%M\")\n",
    "}\n",
    "\n",
    "def talk(query, vocabulary):\n",
    "    if query in vocabulary:\n",
    "        return vocabulary[query] \n",
    "    \n",
    "    else:\n",
    "        return \"I don't understand that!\"\n",
    "\n",
    "q=\"what time is it\"\n",
    "talk(q,v)"
   ]
  },
  {
   "cell_type": "code",
   "execution_count": 172,
   "metadata": {},
   "outputs": [
    {
     "data": {
      "text/plain": [
       "0.42105263157894735"
      ]
     },
     "execution_count": 172,
     "metadata": {},
     "output_type": "execute_result"
    }
   ],
   "source": [
    "from difflib import SequenceMatcher\n",
    "s = SequenceMatcher(None, \"time\", \"what time is it\")\n",
    "s.ratio()"
   ]
  },
  {
   "cell_type": "code",
   "execution_count": 192,
   "metadata": {},
   "outputs": [
    {
     "name": "stdout",
     "output_type": "stream",
     "text": [
      "0.2222222222222222 hello\n",
      "0.3 what's your name\n",
      "0.38095238095238093 what is your name\n"
     ]
    },
    {
     "data": {
      "text/plain": [
       "'My name is Roboto!'"
      ]
     },
     "execution_count": 192,
     "metadata": {},
     "output_type": "execute_result"
    }
   ],
   "source": [
    "import difflib\n",
    "from difflib import SequenceMatcher\n",
    "\n",
    "vocabulary = {\n",
    "    \"hello\" : \"Hi there!\",\n",
    "    \"what's your name\" : \"My name is Roboto!\",\n",
    "    \"what is your name\" : \"My name is Roboto!\",\n",
    "    \"bye\" : \"Goodbye!\",\n",
    "    \"what time is it\" : datetime.datetime.now().strftime(\"%H:%M\")\n",
    "}\n",
    "\n",
    "def talk(query, vocabulary):\n",
    "    for q in vocabulary.keys():\n",
    "        s = SequenceMatcher(None, q, query)\n",
    "        print(s.ratio(), q )\n",
    "        if s.ratio() >=0.38:\n",
    "            return vocabulary[q] \n",
    "    else:\n",
    "        return \"I don't understand that!\"\n",
    "\n",
    "q=\"time\"\n",
    "talk(q,v)"
   ]
  },
  {
   "cell_type": "code",
   "execution_count": 193,
   "metadata": {},
   "outputs": [],
   "source": [
    "def foo(query, vocabulary):\n",
    "    new_vocabulary = {key:[value, difflib.SequenceMatcher(None, query, key).ratio()] \n",
    "    for (key,value) in vocabulary.items()}\n",
    "    print(new_vocabulary)\n",
    "    return new_vocabulary[max(new_vocabulary, key=lambda k: new_vocabulary[k][1])][0]"
   ]
  },
  {
   "cell_type": "code",
   "execution_count": 194,
   "metadata": {},
   "outputs": [
    {
     "name": "stdout",
     "output_type": "stream",
     "text": [
      "{'hello': ['Hi there!', 0.2222222222222222], \"what's your name\": ['My name is Roboto!', 0.3], 'what is your name': ['My name is Roboto!', 0.38095238095238093], 'bye': ['Goodbye!', 0.2857142857142857], 'what time is it': ['14:17', 0.42105263157894735]}\n"
     ]
    },
    {
     "data": {
      "text/plain": [
       "'14:17'"
      ]
     },
     "execution_count": 194,
     "metadata": {},
     "output_type": "execute_result"
    }
   ],
   "source": [
    "q=\"time\"\n",
    "foo(q,v)"
   ]
  },
  {
   "cell_type": "code",
   "execution_count": 17,
   "metadata": {},
   "outputs": [],
   "source": [
    "import difflib\n",
    "from difflib import SequenceMatcher\n",
    "def foo(query, vocabulary):\n",
    "    new_vocabulary = {key:[value, difflib.SequenceMatcher(None, query, key).ratio()] \n",
    "    for (key,value) in vocabulary.items()}\n",
    "    print(new_vocabulary)\n",
    "    print(max(new_vocabulary, key=lambda k: new_vocabulary[k][1]))\n",
    "    x = max(new_vocabulary, key=lambda k: new_vocabulary[k][1])\n",
    "    print(new_vocabulary[x][1])\n",
    "    return None"
   ]
  },
  {
   "cell_type": "code",
   "execution_count": 18,
   "metadata": {},
   "outputs": [
    {
     "name": "stdout",
     "output_type": "stream",
     "text": [
      "{'hello': ['Hi there!', 0.2222222222222222], \"what's your name\": ['My name is Roboto!', 0.3], 'what is your name': ['My name is Roboto!', 0.38095238095238093], 'bye': ['Goodbye!', 0.2857142857142857], 'what time is it': ['14:56', 0.42105263157894735]}\n",
      "what time is it\n",
      "0.42105263157894735\n"
     ]
    }
   ],
   "source": [
    "v = {\n",
    "    \"hello\" : \"Hi there!\",\n",
    "    \"what's your name\" : \"My name is Roboto!\",\n",
    "    \"what is your name\" : \"My name is Roboto!\",\n",
    "    \"bye\" : \"Goodbye!\",\n",
    "    \"what time is it\" : datetime.datetime.now().strftime(\"%H:%M\")\n",
    "}\n",
    "q=\"time\"\n",
    "foo(q,v)"
   ]
  },
  {
   "cell_type": "code",
   "execution_count": 1,
   "metadata": {},
   "outputs": [
    {
     "name": "stdout",
     "output_type": "stream",
     "text": [
      "        Date  Day of week (int) Day of week (str)\n",
      "0 2018-01-31                  2         Wednesday\n",
      "1 2018-01-01                  0            Monday\n",
      "2 2018-12-31                  0            Monday\n",
      "3 2016-02-28                  6            Sunday\n",
      "4 2035-03-03                  5          Saturday\n"
     ]
    }
   ],
   "source": [
    "import pandas as pd\n",
    "\n",
    "your_df = pd.DataFrame(data={'Date': ['31/1/2018', '1/1/2018', '31/12/2018',\n",
    "                                      '28/2/2016', '3/3/2035']})\n",
    "\n",
    "your_df['Date'] = pd.to_datetime(your_df['Date'], format=\"%d/%m/%Y\")\n",
    "\n",
    "your_df['Day of week (int)'] = your_df['Date'].dt.weekday\n",
    "\n",
    "your_df['Day of week (str)'] = your_df['Date'].dt.day_name()\n",
    "\n",
    "print(your_df)"
   ]
  },
  {
   "cell_type": "code",
   "execution_count": 7,
   "metadata": {},
   "outputs": [
    {
     "name": "stdout",
     "output_type": "stream",
     "text": [
      "Monday\n"
     ]
    }
   ],
   "source": [
    "# Python program to Find day of\n",
    "# the week for a given date\n",
    "import datetime\n",
    "import calendar\n",
    "\n",
    "def foo(date):\n",
    "\tborn = datetime.datetime.strptime(date, '%Y-%m-%d').weekday()\n",
    "\treturn (calendar.day_name[born])\n",
    "\n",
    "# Driver program\n",
    "date = \"2019-6-17\"\n",
    "print(foo(date))\n"
   ]
  },
  {
   "cell_type": "code",
   "execution_count": 8,
   "metadata": {},
   "outputs": [
    {
     "name": "stdout",
     "output_type": "stream",
     "text": [
      "Monday\n"
     ]
    }
   ],
   "source": [
    "import datetime\n",
    "\n",
    "def foo(date):\n",
    "    return datetime.datetime.strptime(date, \"%Y-%m-%d\").strftime(\"%A\")\n",
    "# Driver program\n",
    "date = \"2019-6-17\"\n",
    "print(foo(date))\n",
    "\n",
    "    "
   ]
  },
  {
   "cell_type": "code",
   "execution_count": 10,
   "metadata": {},
   "outputs": [],
   "source": [
    "for i in range(1,10):\n",
    "    filename=\"day\"+str(i)+'.txt'\n",
    "    f = open(filename, \"w\")\n",
    "    f.close()"
   ]
  },
  {
   "cell_type": "code",
   "execution_count": 17,
   "metadata": {},
   "outputs": [],
   "source": [
    "import glob\n",
    "for number in range(1, 10):\n",
    "    if \"day{}.txt\".format(number) not in glob.glob('*.txt'):\n",
    "        open(\"day{}.txt\".format(number), \"w\").close()"
   ]
  },
  {
   "cell_type": "code",
   "execution_count": 106,
   "metadata": {},
   "outputs": [
    {
     "name": "stderr",
     "output_type": "stream",
     "text": [
      "C:\\Users\\hoang\\AppData\\Local\\Temp\\ipykernel_13248\\3034472261.py:4: FutureWarning: The frame.append method is deprecated and will be removed from pandas in a future version. Use pandas.concat instead.\n",
      "  df=df1.append(df2)\n",
      "C:\\Users\\hoang\\AppData\\Local\\Temp\\ipykernel_13248\\3034472261.py:6: SettingWithCopyWarning: \n",
      "A value is trying to be set on a copy of a slice from a DataFrame.\n",
      "Try using .loc[row_indexer,col_indexer] = value instead\n",
      "\n",
      "See the caveats in the documentation: https://pandas.pydata.org/pandas-docs/stable/user_guide/indexing.html#returning-a-view-versus-a-copy\n",
      "  df3['percent'] =df3[0].apply(lambda x: float(re.findall('\\d*\\.?\\d+',x)[0]))\n"
     ]
    },
    {
     "data": {
      "text/plain": [
       "15.550769230769232"
      ]
     },
     "execution_count": 106,
     "metadata": {},
     "output_type": "execute_result"
    }
   ],
   "source": [
    "import pandas as pd\n",
    "df1 = pd.read_csv(\"file2.txt\", header=None)\n",
    "df2 = pd.read_csv(\"file3.txt\",header=None)\n",
    "df=df1.append(df2)\n",
    "df3 = df[df[0].str.contains(\"nodata nodata\") == False]\n",
    "df3['percent'] =df3[0].apply(lambda x: float(re.findall('\\d*\\.?\\d+',x)[0]))\n",
    "df3['percent'].mean()\n",
    "\n",
    "\n",
    "\n"
   ]
  },
  {
   "cell_type": "code",
   "execution_count": 23,
   "metadata": {},
   "outputs": [
    {
     "name": "stdout",
     "output_type": "stream",
     "text": [
      "['capacity11% nodata\\n', 'capcity33.5% nodata\\n', 'capacoty3.4% nodata\\n', 'capacity30% nodata\\n', 'cap22% nodata\\n', 'cap34.55%nodata\\n', 'capacity10%', 'capacity4.15% nodata\\n', 'capcity 14.5% nodata\\n', 'capacoty3.4% nodata\\n', 'nodata nodata\\n', 'cap21.11% nodata\\n', 'cap4.55%nodata\\n', 'capacity10%']\n",
      "[<re.Match object; span=(8, 10), match='11'>, <re.Match object; span=(7, 11), match='33.5'>, <re.Match object; span=(8, 11), match='3.4'>, <re.Match object; span=(8, 10), match='30'>, <re.Match object; span=(3, 5), match='22'>, <re.Match object; span=(3, 8), match='34.55'>, <re.Match object; span=(8, 10), match='10'>, <re.Match object; span=(8, 12), match='4.15'>, <re.Match object; span=(8, 12), match='14.5'>, <re.Match object; span=(8, 11), match='3.4'>, None, <re.Match object; span=(3, 8), match='21.11'>, <re.Match object; span=(3, 7), match='4.55'>, <re.Match object; span=(8, 10), match='10'>]\n",
      "[11.0, 33.5, 3.4, 30.0, 22.0, 34.55, 10.0, 4.15, 14.5, 3.4, 21.11, 4.55, 10.0]\n",
      "15.550769230769232\n"
     ]
    }
   ],
   "source": [
    "import glob\n",
    "import re\n",
    "\n",
    "text_files = glob.glob(\"*.txt\")\n",
    "lists =[]\n",
    "for text_file in text_files:\n",
    "    with open(text_file) as file:\n",
    "        lists.append(file.readlines())\n",
    "\n",
    "all_lines = sum(lists, [])\n",
    "print(all_lines)\n",
    "\n",
    "matches = [re.compile(\"[0-9]+\\.*[0-9]*\").search(line) for line in all_lines]\n",
    "print(matches)\n",
    "\n",
    "numbers = [float(match.group(0)) for match in matches if match]\n",
    "print(numbers)\n",
    "print(sum(numbers)/len(numbers))"
   ]
  },
  {
   "cell_type": "code",
   "execution_count": 88,
   "metadata": {},
   "outputs": [
    {
     "data": {
      "text/html": [
       "<div>\n",
       "<style scoped>\n",
       "    .dataframe tbody tr th:only-of-type {\n",
       "        vertical-align: middle;\n",
       "    }\n",
       "\n",
       "    .dataframe tbody tr th {\n",
       "        vertical-align: top;\n",
       "    }\n",
       "\n",
       "    .dataframe thead th {\n",
       "        text-align: right;\n",
       "    }\n",
       "</style>\n",
       "<table border=\"1\" class=\"dataframe\">\n",
       "  <thead>\n",
       "    <tr style=\"text-align: right;\">\n",
       "      <th></th>\n",
       "      <th>team</th>\n",
       "      <th>Subject</th>\n",
       "      <th>points</th>\n",
       "    </tr>\n",
       "  </thead>\n",
       "  <tbody>\n",
       "    <tr>\n",
       "      <th>2</th>\n",
       "      <td>Team 2</td>\n",
       "      <td>Science</td>\n",
       "      <td>10</td>\n",
       "    </tr>\n",
       "    <tr>\n",
       "      <th>3</th>\n",
       "      <td>Team 3</td>\n",
       "      <td>Math</td>\n",
       "      <td>6</td>\n",
       "    </tr>\n",
       "    <tr>\n",
       "      <th>4</th>\n",
       "      <td>Team 2</td>\n",
       "      <td>Science</td>\n",
       "      <td>6</td>\n",
       "    </tr>\n",
       "    <tr>\n",
       "      <th>5</th>\n",
       "      <td>Team 3</td>\n",
       "      <td>Math</td>\n",
       "      <td>5</td>\n",
       "    </tr>\n",
       "  </tbody>\n",
       "</table>\n",
       "</div>"
      ],
      "text/plain": [
       "     team  Subject  points\n",
       "2  Team 2  Science      10\n",
       "3  Team 3     Math       6\n",
       "4  Team 2  Science       6\n",
       "5  Team 3     Math       5"
      ]
     },
     "execution_count": 88,
     "metadata": {},
     "output_type": "execute_result"
    }
   ],
   "source": [
    "# importing the library\n",
    "import pandas as pd\n",
    "\n",
    "# Dataframe\n",
    "df = pd.DataFrame({'team': ['Team 1', 'Team 1', 'Team 2',\n",
    "\t\t\t\t\t\t\t'Team 3', 'Team 2', 'Team 3'],\n",
    "\t\t\t\t'Subject': ['Math', 'Science', 'Science',\n",
    "\t\t\t\t\t\t\t'Math', 'Science', 'Math'],\n",
    "\t\t\t\t'points': [10, 8, 10, 6, 6, 5]})\n",
    "\n",
    "# Dropping the team 1\n",
    "df = df[df[\"team\"].str.contains(\"Team 1\") == False]\n",
    "\n",
    "df\n"
   ]
  },
  {
   "cell_type": "code",
   "execution_count": 110,
   "metadata": {},
   "outputs": [],
   "source": [
    "import os \n",
    "\n",
    "# Parent Directory path \n",
    "parent_dir = os.getcwd()\n",
    "        \n",
    "# Directory \n",
    "for i in range(1,51): \n",
    "    directory = str(i)\n",
    "    # Path \n",
    "    path = os.path.join(parent_dir, directory)\n",
    "    # Create the directory \n",
    "    os.mkdir(path)  \n"
   ]
  },
  {
   "cell_type": "code",
   "execution_count": 113,
   "metadata": {},
   "outputs": [],
   "source": [
    "import os\n",
    "lst=['mon', 'tue', 'wed','thu', 'fri']\n",
    "for i in range(1, 50+1):\n",
    "    os.makedirs(str(i))\n",
    "    for item in lst:\n",
    "        os.makedirs(str(i)+\"/\"+item)"
   ]
  },
  {
   "cell_type": "code",
   "execution_count": 114,
   "metadata": {},
   "outputs": [],
   "source": [
    "import os\n",
    "import glob\n",
    "\n",
    "for name in glob.glob('*.txt'):\n",
    "    os.remove(name)"
   ]
  },
  {
   "cell_type": "code",
   "execution_count": 115,
   "metadata": {},
   "outputs": [],
   "source": [
    "import os\n",
    "import glob\n",
    "\n",
    "for name in glob.glob('*.txt'):\n",
    "    with open(name) as f:\n",
    "        contents = f.read()\n",
    "        if \"xxx\" in contents:\n",
    "            f.close()\n",
    "            os.remove(name)\n",
    "    "
   ]
  },
  {
   "cell_type": "code",
   "execution_count": 118,
   "metadata": {},
   "outputs": [
    {
     "name": "stdout",
     "output_type": "stream",
     "text": [
      "file2.txt\n"
     ]
    }
   ],
   "source": [
    "import glob\n",
    "import os\n",
    "\n",
    "text_files = glob.glob(\"*.txt\")\n",
    "\n",
    "sizes = {text_file:os.path.getsize(text_file) for text_file in text_files}\n",
    "print(min(sizes, key=sizes.get))\n"
   ]
  },
  {
   "cell_type": "code",
   "execution_count": 9,
   "metadata": {},
   "outputs": [],
   "source": [
    "import json\n",
    "\n",
    "with open(\"file4.txt\", \"r\") as file:\n",
    "    file4_content = file.read()\n",
    "\n",
    "file.close()\n",
    "dict1=json.loads(file4_content)\n",
    "\n",
    "dict1['metals']['gold'] = {\n",
    "         \"conductivity\": 33.5, \n",
    "         \"density\": 0.255, \n",
    "         \"heat\": 0.129, \n",
    "         \"melting point\": 2171, \n",
    "         \"thermal expansion\": 4.7, \n",
    "         \"yield strength\": 288, \n",
    "         \"tensile strength\": 441, \n",
    "         \"minimum impact energy\": 22\n",
    "     }\n",
    "dict1\n",
    "with open(\"file4.txt\", \"w\") as json_file2:\n",
    "    json.dump(dict1, json_file2)\n"
   ]
  },
  {
   "cell_type": "code",
   "execution_count": 14,
   "metadata": {},
   "outputs": [
    {
     "data": {
      "text/plain": [
       "{'conductivity': 60.2,\n",
       " 'density': 0.568,\n",
       " 'heat': 0.244,\n",
       " 'melting point': 5140,\n",
       " 'thermal expansion': 13.4,\n",
       " 'yield strength': 510,\n",
       " 'tensile strength': 820,\n",
       " 'minimum impact energy': 40}"
      ]
     },
     "execution_count": 14,
     "metadata": {},
     "output_type": "execute_result"
    }
   ],
   "source": [
    "import json\n",
    "with open(\"file6.txt\", \"r\") as file:\n",
    "    file_content = file.read()\n",
    "\n",
    "dict=json.loads(file_content)\n",
    "for k, v in dict.items():\n",
    "    dict[k] = v*2\n",
    "dict"
   ]
  },
  {
   "cell_type": "code",
   "execution_count": 17,
   "metadata": {},
   "outputs": [
    {
     "data": {
      "text/plain": [
       "0.284"
      ]
     },
     "execution_count": 17,
     "metadata": {},
     "output_type": "execute_result"
    }
   ],
   "source": [
    "import json\n",
    "with open(\"file7.txt\", \"r\") as file:\n",
    "    file_content = file.read()\n",
    "\n",
    "dict=json.loads(file_content)\n",
    "dict['metals']['steel']['density']"
   ]
  },
  {
   "cell_type": "code",
   "execution_count": 19,
   "metadata": {},
   "outputs": [
    {
     "name": "stdout",
     "output_type": "stream",
     "text": [
      "0.284\n"
     ]
    }
   ],
   "source": [
    "import json\n",
    "def foo(key1, key2, vfile):\n",
    "    with open(vfile, \"r\") as file:\n",
    "        file_content = file.read()\n",
    "\n",
    "    dict=json.loads(file_content)\n",
    "    return dict['metals'][key1][key2]\n",
    "print(foo('steel', 'density', 'file7.txt'))"
   ]
  },
  {
   "cell_type": "code",
   "execution_count": 3,
   "metadata": {},
   "outputs": [
    {
     "name": "stdout",
     "output_type": "stream",
     "text": [
      "Life is really simple, but we insist on making it complicated.Don't take life so seriously. It's not like you're going to get out alive.There is only one big risk you should avoid at all costs, and that is the risk of doing nothing.\n"
     ]
    }
   ],
   "source": [
    "list_files =['file1.txt', 'file8.txt', 'file9.txt']\n",
    "merge_content =\"\"\n",
    "for item_file in list_files:\n",
    "    with open(item_file, 'r') as f:\n",
    "        merge_content += f.read()\n",
    "with open('together.txt', 'w') as f:\n",
    "    f.write(merge_content)\n",
    "print(merge_content)"
   ]
  },
  {
   "cell_type": "code",
   "execution_count": 4,
   "metadata": {},
   "outputs": [
    {
     "name": "stdout",
     "output_type": "stream",
     "text": [
      "['file1.txt', 'file2.txt', 'file3.txt', 'file4.txt', 'file5.txt', 'file6.txt', 'file7.txt', 'file8.txt', 'file9.txt']\n"
     ]
    }
   ],
   "source": [
    "import glob\n",
    "\n",
    "text_files = glob.glob(\"file*.txt\")\n",
    "print(text_files)\n",
    "with open('all_together.txt', 'w') as outfile:\n",
    "    for text_file in text_files:\n",
    "        with open(text_file) as infile:\n",
    "            for line in infile:\n",
    "                outfile.write(line + \"\\n\")"
   ]
  },
  {
   "cell_type": "code",
   "execution_count": 7,
   "metadata": {},
   "outputs": [],
   "source": [
    "import glob\n",
    "\n",
    "file_names = glob.glob(\"file*.txt\")\n",
    "\n",
    "for file_name in file_names:\n",
    "    new_name = file_name[:4] + \"-\" + file_name[4:]\n",
    "    os.rename(file_name, new_name)"
   ]
  },
  {
   "cell_type": "code",
   "execution_count": 16,
   "metadata": {},
   "outputs": [
    {
     "name": "stdout",
     "output_type": "stream",
     "text": [
      "3\n"
     ]
    }
   ],
   "source": [
    "x = 1\n",
    "y = '2'\n",
    "try:\n",
    "    sum=x+y\n",
    "except:\n",
    "    sum= int(x) + int(y)\n",
    "    print(sum)\n",
    "\n"
   ]
  },
  {
   "cell_type": "code",
   "execution_count": 17,
   "metadata": {},
   "outputs": [
    {
     "name": "stdout",
     "output_type": "stream",
     "text": [
      "3\n"
     ]
    }
   ],
   "source": [
    "try:\n",
    "    print(x + y)\n",
    "except TypeError: # Better to be specific about the error you expect\n",
    "    print(int(x) + int(y))"
   ]
  },
  {
   "cell_type": "code",
   "execution_count": 18,
   "metadata": {},
   "outputs": [
    {
     "name": "stdout",
     "output_type": "stream",
     "text": [
      "1\n"
     ]
    }
   ],
   "source": [
    "x = 1\n",
    "y = x\n",
    "del x\n",
    "print(y)"
   ]
  },
  {
   "cell_type": "code",
   "execution_count": 20,
   "metadata": {},
   "outputs": [
    {
     "name": "stdout",
     "output_type": "stream",
     "text": [
      "True\n",
      "True\n"
     ]
    }
   ],
   "source": [
    "a = 3\n",
    "b = 3\n",
    " \n",
    "c = [1, 2]\n",
    "d = [1, 2]\n",
    " \n",
    "print(a == b)\n",
    "print(c == d)"
   ]
  },
  {
   "cell_type": "code",
   "execution_count": 21,
   "metadata": {},
   "outputs": [
    {
     "name": "stdout",
     "output_type": "stream",
     "text": [
      "True\n",
      "True\n",
      "False\n",
      "False\n",
      "True\n"
     ]
    }
   ],
   "source": [
    "print(isinstance(3, int))\n",
    "print(isinstance(3.5, float))\n",
    "print(isinstance((3, 4), list))\n",
    "print(isinstance({1, 3}, dict))\n",
    "print(isinstance(True, bool))"
   ]
  },
  {
   "cell_type": "code",
   "execution_count": 27,
   "metadata": {},
   "outputs": [
    {
     "data": {
      "text/plain": [
       "1"
      ]
     },
     "execution_count": 27,
     "metadata": {},
     "output_type": "execute_result"
    }
   ],
   "source": [
    "mytuple = (\"john\", \"jim\", \"jack\")\n",
    "mytuple.count(\"john\")"
   ]
  },
  {
   "cell_type": "code",
   "execution_count": 35,
   "metadata": {},
   "outputs": [
    {
     "name": "stdout",
     "output_type": "stream",
     "text": [
      "[' what if others do?', ' What characterizes an addiction?', ' Why should we be addicted to thinking?']\n"
     ]
    }
   ],
   "source": [
    "import re\n",
    "with open('file10.txt', 'r') as f:\n",
    "    text = f.read()\n",
    "\n",
    "pattern = re.compile(r'\\s[A-Za-z\\s]*\\?')\n",
    "print(pattern.findall(text))"
   ]
  },
  {
   "cell_type": "code",
   "execution_count": 1,
   "metadata": {},
   "outputs": [
    {
     "name": "stdout",
     "output_type": "stream",
     "text": [
      "['And what if others do?', 'What characterizes an addiction?', 'Why should we be addicted to thinking?']\n"
     ]
    }
   ],
   "source": [
    "import re\n",
    "with open(\"file10.txt\") as file:\n",
    "    content = file.read()\n",
    "    print(re.findall(\"[A-Z][a-z ',]*\\?\", content))"
   ]
  },
  {
   "cell_type": "code",
   "execution_count": 1,
   "metadata": {},
   "outputs": [
    {
     "name": "stdout",
     "output_type": "stream",
     "text": [
      "Welcome John Smith to our shop!\n"
     ]
    }
   ],
   "source": [
    "firstname = \"John\"\n",
    "lastname = \"Smith\"\n",
    "\n",
    "print(\"Welcome {} {} to our shop!\".format(firstname, lastname))"
   ]
  },
  {
   "cell_type": "code",
   "execution_count": 4,
   "metadata": {},
   "outputs": [
    {
     "name": "stdout",
     "output_type": "stream",
     "text": [
      "Welcome Andy Smith to our shop!\n"
     ]
    }
   ],
   "source": [
    "names = {\"firstname\" : \"Andy\", \"lastname\": \"Smith\"}\n",
    "print(\"Welcome {firstname} {lastname} to our shop!\".format(firstname=names[\"firstname\"], lastname=names[\"lastname\"]))\n",
    "\n",
    "\n"
   ]
  },
  {
   "cell_type": "code",
   "execution_count": 5,
   "metadata": {},
   "outputs": [
    {
     "name": "stdout",
     "output_type": "stream",
     "text": [
      "Welcome Andy Smith to our shop!\n"
     ]
    }
   ],
   "source": [
    "names = {\"firstname\" : \"Andy\", \"lastname\": \"Smith\"}\n",
    "print(\"Welcome {firstname} {lastname} to our shop!\".format(**names))"
   ]
  },
  {
   "cell_type": "code",
   "execution_count": 13,
   "metadata": {},
   "outputs": [
    {
     "name": "stdout",
     "output_type": "stream",
     "text": [
      "Welcome A.S to our shop!\n"
     ]
    }
   ],
   "source": [
    "firstname = \"Andy\"\n",
    "lastname = \"Smith\"\n",
    "print(\"Welcome {:.1}.{:.1} to our shop!\".format(firstname, lastname))"
   ]
  },
  {
   "cell_type": "code",
   "execution_count": 16,
   "metadata": {},
   "outputs": [
    {
     "data": {
      "text/plain": [
       "11"
      ]
     },
     "execution_count": 16,
     "metadata": {},
     "output_type": "execute_result"
    }
   ],
   "source": [
    "import re\n",
    "mystring = \"Aenean massa.\"\n",
    "\n",
    "def foo(mystring):\n",
    "    return (len(re.sub(r'[,.\\s]+', '', mystring)))\n",
    "foo(mystring)"
   ]
  },
  {
   "cell_type": "code",
   "execution_count": 17,
   "metadata": {},
   "outputs": [
    {
     "data": {
      "text/plain": [
       "12"
      ]
     },
     "execution_count": 17,
     "metadata": {},
     "output_type": "execute_result"
    }
   ],
   "source": [
    "def foo(mystring):\n",
    "    return len(mystring.replace(\".\", \"\"))\n",
    "foo(mystring)"
   ]
  },
  {
   "cell_type": "code",
   "execution_count": 18,
   "metadata": {},
   "outputs": [
    {
     "name": "stdout",
     "output_type": "stream",
     "text": [
      "abcc\n"
     ]
    }
   ],
   "source": [
    "mylist = [\"a\", \"b\", \"c\", \"c\"]\n",
    "print(\"\".join(mylist))"
   ]
  },
  {
   "cell_type": "code",
   "execution_count": 3,
   "metadata": {},
   "outputs": [
    {
     "data": {
      "text/plain": [
       "0.3870967741935484"
      ]
     },
     "execution_count": 3,
     "metadata": {},
     "output_type": "execute_result"
    }
   ],
   "source": [
    "import difflib\n",
    "# from difflib import SequenceMatcher\n",
    "def foo(mystr1, mystr2):\n",
    "    compare_str = difflib.SequenceMatcher(None, mystr1, mystr2).ratio()\n",
    "    return compare_str\n",
    "foo('tell me the time', 'what time is it')"
   ]
  },
  {
   "cell_type": "code",
   "execution_count": 7,
   "metadata": {},
   "outputs": [
    {
     "name": "stdout",
     "output_type": "stream",
     "text": [
      "['__abs__', '__add__', '__and__', '__bool__', '__ceil__', '__class__', '__delattr__', '__dir__', '__divmod__', '__doc__', '__eq__', '__float__', '__floor__', '__floordiv__', '__format__', '__ge__', '__getattribute__', '__getnewargs__', '__gt__', '__hash__', '__index__', '__init__', '__init_subclass__', '__int__', '__invert__', '__le__', '__lshift__', '__lt__', '__mod__', '__mul__', '__ne__', '__neg__', '__new__', '__or__', '__pos__', '__pow__', '__radd__', '__rand__', '__rdivmod__', '__reduce__', '__reduce_ex__', '__repr__', '__rfloordiv__', '__rlshift__', '__rmod__', '__rmul__', '__ror__', '__round__', '__rpow__', '__rrshift__', '__rshift__', '__rsub__', '__rtruediv__', '__rxor__', '__setattr__', '__sizeof__', '__str__', '__sub__', '__subclasshook__', '__truediv__', '__trunc__', '__xor__', 'as_integer_ratio', 'bit_length', 'conjugate', 'denominator', 'from_bytes', 'imag', 'numerator', 'real', 'to_bytes']\n"
     ]
    }
   ],
   "source": [
    "print(dir(int))"
   ]
  },
  {
   "cell_type": "code",
   "execution_count": 8,
   "metadata": {},
   "outputs": [
    {
     "data": {
      "text/plain": [
       "2203500964608"
      ]
     },
     "execution_count": 8,
     "metadata": {},
     "output_type": "execute_result"
    }
   ],
   "source": [
    "def check_id_object(obj):\n",
    "    return id(obj)\n",
    "mylist=[1,2,3]\n",
    "check_id_object(mylist)"
   ]
  },
  {
   "cell_type": "code",
   "execution_count": 12,
   "metadata": {},
   "outputs": [
    {
     "data": {
      "text/plain": [
       "['__add__',\n",
       " '__class__',\n",
       " '__contains__',\n",
       " '__delattr__',\n",
       " '__dir__',\n",
       " '__doc__',\n",
       " '__eq__',\n",
       " '__format__',\n",
       " '__ge__',\n",
       " '__getattribute__',\n",
       " '__getitem__',\n",
       " '__getnewargs__',\n",
       " '__gt__',\n",
       " '__hash__',\n",
       " '__init__',\n",
       " '__init_subclass__',\n",
       " '__iter__',\n",
       " '__le__',\n",
       " '__len__',\n",
       " '__lt__',\n",
       " '__mod__',\n",
       " '__mul__',\n",
       " '__ne__',\n",
       " '__new__',\n",
       " '__reduce__',\n",
       " '__reduce_ex__',\n",
       " '__repr__',\n",
       " '__rmod__',\n",
       " '__rmul__',\n",
       " '__setattr__',\n",
       " '__sizeof__',\n",
       " '__str__',\n",
       " '__subclasshook__',\n",
       " 'capitalize',\n",
       " 'casefold',\n",
       " 'center',\n",
       " 'count',\n",
       " 'encode',\n",
       " 'endswith',\n",
       " 'expandtabs',\n",
       " 'find',\n",
       " 'format',\n",
       " 'format_map',\n",
       " 'index',\n",
       " 'isalnum',\n",
       " 'isalpha',\n",
       " 'isascii',\n",
       " 'isdecimal',\n",
       " 'isdigit',\n",
       " 'isidentifier',\n",
       " 'islower',\n",
       " 'isnumeric',\n",
       " 'isprintable',\n",
       " 'isspace',\n",
       " 'istitle',\n",
       " 'isupper',\n",
       " 'join',\n",
       " 'ljust',\n",
       " 'lower',\n",
       " 'lstrip',\n",
       " 'maketrans',\n",
       " 'partition',\n",
       " 'removeprefix',\n",
       " 'removesuffix',\n",
       " 'replace',\n",
       " 'rfind',\n",
       " 'rindex',\n",
       " 'rjust',\n",
       " 'rpartition',\n",
       " 'rsplit',\n",
       " 'rstrip',\n",
       " 'split',\n",
       " 'splitlines',\n",
       " 'startswith',\n",
       " 'strip',\n",
       " 'swapcase',\n",
       " 'title',\n",
       " 'translate',\n",
       " 'upper',\n",
       " 'zfill']"
      ]
     },
     "execution_count": 12,
     "metadata": {},
     "output_type": "execute_result"
    }
   ],
   "source": [
    "def foo(obj):\n",
    "    return dir(obj)\n",
    "\n",
    "foo(str)"
   ]
  },
  {
   "cell_type": "code",
   "execution_count": 14,
   "metadata": {},
   "outputs": [
    {
     "data": {
      "text/plain": [
       "['capitalize',\n",
       " 'casefold',\n",
       " 'center',\n",
       " 'count',\n",
       " 'encode',\n",
       " 'endswith',\n",
       " 'expandtabs',\n",
       " 'find',\n",
       " 'format',\n",
       " 'format_map',\n",
       " 'index',\n",
       " 'isalnum',\n",
       " 'isalpha',\n",
       " 'isascii',\n",
       " 'isdecimal',\n",
       " 'isdigit',\n",
       " 'isidentifier',\n",
       " 'islower',\n",
       " 'isnumeric',\n",
       " 'isprintable',\n",
       " 'isspace',\n",
       " 'istitle',\n",
       " 'isupper',\n",
       " 'join',\n",
       " 'ljust',\n",
       " 'lower',\n",
       " 'lstrip',\n",
       " 'maketrans',\n",
       " 'partition',\n",
       " 'removeprefix',\n",
       " 'removesuffix',\n",
       " 'replace',\n",
       " 'rfind',\n",
       " 'rindex',\n",
       " 'rjust',\n",
       " 'rpartition',\n",
       " 'rsplit',\n",
       " 'rstrip',\n",
       " 'split',\n",
       " 'splitlines',\n",
       " 'startswith',\n",
       " 'strip',\n",
       " 'swapcase',\n",
       " 'title',\n",
       " 'translate',\n",
       " 'upper',\n",
       " 'zfill']"
      ]
     },
     "execution_count": 14,
     "metadata": {},
     "output_type": "execute_result"
    }
   ],
   "source": [
    "import re\n",
    "\n",
    "def foo(obj):\n",
    "    all_attributes = dir(obj)\n",
    "    normal_attributes = [attribute \\\n",
    "    for attribute in all_attributes \\\n",
    "        if not re.compile(\"__[a-z0-9A-Z_]*__\").search(attribute)]\n",
    "    return normal_attributes\n",
    "\n",
    "foo(str)"
   ]
  },
  {
   "cell_type": "code",
   "execution_count": 12,
   "metadata": {},
   "outputs": [
    {
     "data": {
      "text/plain": [
       "'hi human'"
      ]
     },
     "execution_count": 12,
     "metadata": {},
     "output_type": "execute_result"
    }
   ],
   "source": [
    "import difflib      \n",
    "class Robot:\n",
    "    def __init__(self):\n",
    "        pass\n",
    "\n",
    "    def speak(self, query):\n",
    "        check_greeting = difflib.SequenceMatcher(None, \"hi robot\", query).ratio()\n",
    "        if check_greeting ==1:\n",
    "            return (\"hi human\")\n",
    "        else:\n",
    "            return (\"I don't know\")\n",
    "\n",
    "\n",
    "\n",
    "Robot().speak('hi robot')\n",
    "\n",
    "\n"
   ]
  },
  {
   "cell_type": "code",
   "execution_count": 19,
   "metadata": {},
   "outputs": [
    {
     "data": {
      "text/plain": [
       "3"
      ]
     },
     "execution_count": 19,
     "metadata": {},
     "output_type": "execute_result"
    }
   ],
   "source": [
    "txt=\"what is the sum of 1 and 2\"\n",
    "sum([int(s) for s in txt.split() if s.isdigit()])"
   ]
  },
  {
   "cell_type": "code",
   "execution_count": 21,
   "metadata": {},
   "outputs": [
    {
     "data": {
      "text/plain": [
       "8"
      ]
     },
     "execution_count": 21,
     "metadata": {},
     "output_type": "execute_result"
    }
   ],
   "source": [
    "class Robot:\n",
    "    def __init__(self):\n",
    "        pass\n",
    "\n",
    "    def speak(self, query):\n",
    "        return sum([int(s) for s in query.split() if s.isdigit()])      \n",
    "        \n",
    "\n",
    "txt=\"what is the sum of 3 and 5\"\n",
    "Robot().speak(txt)"
   ]
  },
  {
   "cell_type": "code",
   "execution_count": 24,
   "metadata": {},
   "outputs": [
    {
     "name": "stdout",
     "output_type": "stream",
     "text": [
      "['3', '5']\n"
     ]
    },
    {
     "data": {
      "text/plain": [
       "8.0"
      ]
     },
     "execution_count": 24,
     "metadata": {},
     "output_type": "execute_result"
    }
   ],
   "source": [
    "class Robot:\n",
    "    def __init__(self):\n",
    "        pass\n",
    "\n",
    "    def speak(self, query):\n",
    "        if 'sum' in query:\n",
    "            numbers = re.findall(r'\\b\\d+\\b', query)\n",
    "            print(numbers)\n",
    "            numbers = [float(item) for item in numbers]\n",
    "            return sum(numbers)\n",
    "            \n",
    "txt=\"what is the sum of 3 and 5\"\n",
    "Robot().speak(txt)"
   ]
  },
  {
   "cell_type": "code",
   "execution_count": 9,
   "metadata": {},
   "outputs": [],
   "source": [
    "import re\n",
    "\n",
    "class Mind:\n",
    "\n",
    "    def __init__(self):\n",
    "        pass\n",
    "    \n",
    "    def think(self, query):\n",
    "        if 'sum' in query: # Check if string 'sum' is in query\n",
    "            numbers = re.findall(r'\\b\\d+\\b', query) # Extract the numbers. E.g. ['1', '2']\n",
    "            numbers = [float(item) for item in numbers] # Convert the numbers into floats [1.0, 2.0]\n",
    "            return sum(numbers) # Return the sum of the numbers\n",
    "            \n",
    "class Robot:\n",
    "\n",
    "    def __init__(self):\n",
    "        self.mind = Mind() # When Robot is initialized with Robot(), that will also initialize Mind\n",
    "\n",
    "    def print_out(self, query):\n",
    "        print(self.mind.think(query)) # Prints out the output returned by mind.think(query) \n",
    "\n",
    "    def write_down(self, query):\n",
    "        with open('file11.txt', 'w') as f:\n",
    "            f.write(str(self.mind.think(query)))\n",
    "       \n",
    "\n",
    "Robot().write_down(\"what 's the sum of 3 and 5?\")"
   ]
  }
 ],
 "metadata": {
  "interpreter": {
   "hash": "9d2e2287b90f84c05b564773cad156a65fe051f83fa7c81a3ad23c3ed1bf9926"
  },
  "kernelspec": {
   "display_name": "Python 3.9.6 64-bit",
   "language": "python",
   "name": "python3"
  },
  "language_info": {
   "codemirror_mode": {
    "name": "ipython",
    "version": 3
   },
   "file_extension": ".py",
   "mimetype": "text/x-python",
   "name": "python",
   "nbconvert_exporter": "python",
   "pygments_lexer": "ipython3",
   "version": "3.9.6"
  },
  "orig_nbformat": 4
 },
 "nbformat": 4,
 "nbformat_minor": 2
}
